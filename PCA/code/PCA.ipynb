{
 "cells": [
  {
   "cell_type": "markdown",
   "id": "dd5b25fe",
   "metadata": {},
   "source": [
    "## Heirarchial "
   ]
  },
  {
   "cell_type": "code",
   "execution_count": 1,
   "id": "733cd919",
   "metadata": {},
   "outputs": [],
   "source": [
    "import pandas as pd \n",
    "import numpy as np\n",
    "from sklearn.decomposition import PCA\n",
    "import matplotlib.pyplot as plt\n",
    "from sklearn.preprocessing import scale \n",
    "import seaborn as sns"
   ]
  },
  {
   "cell_type": "code",
   "execution_count": 2,
   "id": "d9fd1581",
   "metadata": {},
   "outputs": [
    {
     "name": "stdout",
     "output_type": "stream",
     "text": [
      " Volume in drive C is Local Disk \n",
      " Volume Serial Number is A908-B29E\n",
      "\n",
      " Directory of C:\\Users\\SP\\Downloads\\Project\\08- PCA\\code\n",
      "\n",
      "18-Jan-23  11:21 PM                 1 --\n",
      "06-Feb-23  08:36 PM    <DIR>          .\n",
      "06-Feb-23  08:36 PM    <DIR>          ..\n",
      "06-Feb-23  08:35 PM    <DIR>          .ipynb_checkpoints\n",
      "06-Feb-23  08:35 PM           430,505 old PCA .ipynb\n",
      "06-Feb-23  08:36 PM           411,731 Untitled.ipynb\n",
      "               3 File(s)        842,237 bytes\n",
      "               3 Dir(s)  159,768,735,744 bytes free\n"
     ]
    }
   ],
   "source": [
    "ls"
   ]
  },
  {
   "cell_type": "code",
   "execution_count": 3,
   "id": "b9be8c13",
   "metadata": {},
   "outputs": [],
   "source": [
    "wine=pd.read_csv('F:\\ExcelR Assingment\\Csv Files\\PCA/wine.csv')"
   ]
  },
  {
   "cell_type": "code",
   "execution_count": 4,
   "id": "8a004d2d",
   "metadata": {},
   "outputs": [
    {
     "data": {
      "text/html": [
       "<div>\n",
       "<style scoped>\n",
       "    .dataframe tbody tr th:only-of-type {\n",
       "        vertical-align: middle;\n",
       "    }\n",
       "\n",
       "    .dataframe tbody tr th {\n",
       "        vertical-align: top;\n",
       "    }\n",
       "\n",
       "    .dataframe thead th {\n",
       "        text-align: right;\n",
       "    }\n",
       "</style>\n",
       "<table border=\"1\" class=\"dataframe\">\n",
       "  <thead>\n",
       "    <tr style=\"text-align: right;\">\n",
       "      <th></th>\n",
       "      <th>Type</th>\n",
       "      <th>Alcohol</th>\n",
       "      <th>Malic</th>\n",
       "      <th>Ash</th>\n",
       "      <th>Alcalinity</th>\n",
       "      <th>Magnesium</th>\n",
       "      <th>Phenols</th>\n",
       "      <th>Flavanoids</th>\n",
       "      <th>Nonflavanoids</th>\n",
       "      <th>Proanthocyanins</th>\n",
       "      <th>Color</th>\n",
       "      <th>Hue</th>\n",
       "      <th>Dilution</th>\n",
       "      <th>Proline</th>\n",
       "    </tr>\n",
       "  </thead>\n",
       "  <tbody>\n",
       "    <tr>\n",
       "      <th>0</th>\n",
       "      <td>1</td>\n",
       "      <td>14.23</td>\n",
       "      <td>1.71</td>\n",
       "      <td>2.43</td>\n",
       "      <td>15.6</td>\n",
       "      <td>127</td>\n",
       "      <td>2.80</td>\n",
       "      <td>3.06</td>\n",
       "      <td>0.28</td>\n",
       "      <td>2.29</td>\n",
       "      <td>5.64</td>\n",
       "      <td>1.04</td>\n",
       "      <td>3.92</td>\n",
       "      <td>1065</td>\n",
       "    </tr>\n",
       "    <tr>\n",
       "      <th>1</th>\n",
       "      <td>1</td>\n",
       "      <td>13.20</td>\n",
       "      <td>1.78</td>\n",
       "      <td>2.14</td>\n",
       "      <td>11.2</td>\n",
       "      <td>100</td>\n",
       "      <td>2.65</td>\n",
       "      <td>2.76</td>\n",
       "      <td>0.26</td>\n",
       "      <td>1.28</td>\n",
       "      <td>4.38</td>\n",
       "      <td>1.05</td>\n",
       "      <td>3.40</td>\n",
       "      <td>1050</td>\n",
       "    </tr>\n",
       "    <tr>\n",
       "      <th>2</th>\n",
       "      <td>1</td>\n",
       "      <td>13.16</td>\n",
       "      <td>2.36</td>\n",
       "      <td>2.67</td>\n",
       "      <td>18.6</td>\n",
       "      <td>101</td>\n",
       "      <td>2.80</td>\n",
       "      <td>3.24</td>\n",
       "      <td>0.30</td>\n",
       "      <td>2.81</td>\n",
       "      <td>5.68</td>\n",
       "      <td>1.03</td>\n",
       "      <td>3.17</td>\n",
       "      <td>1185</td>\n",
       "    </tr>\n",
       "    <tr>\n",
       "      <th>3</th>\n",
       "      <td>1</td>\n",
       "      <td>14.37</td>\n",
       "      <td>1.95</td>\n",
       "      <td>2.50</td>\n",
       "      <td>16.8</td>\n",
       "      <td>113</td>\n",
       "      <td>3.85</td>\n",
       "      <td>3.49</td>\n",
       "      <td>0.24</td>\n",
       "      <td>2.18</td>\n",
       "      <td>7.80</td>\n",
       "      <td>0.86</td>\n",
       "      <td>3.45</td>\n",
       "      <td>1480</td>\n",
       "    </tr>\n",
       "    <tr>\n",
       "      <th>4</th>\n",
       "      <td>1</td>\n",
       "      <td>13.24</td>\n",
       "      <td>2.59</td>\n",
       "      <td>2.87</td>\n",
       "      <td>21.0</td>\n",
       "      <td>118</td>\n",
       "      <td>2.80</td>\n",
       "      <td>2.69</td>\n",
       "      <td>0.39</td>\n",
       "      <td>1.82</td>\n",
       "      <td>4.32</td>\n",
       "      <td>1.04</td>\n",
       "      <td>2.93</td>\n",
       "      <td>735</td>\n",
       "    </tr>\n",
       "    <tr>\n",
       "      <th>...</th>\n",
       "      <td>...</td>\n",
       "      <td>...</td>\n",
       "      <td>...</td>\n",
       "      <td>...</td>\n",
       "      <td>...</td>\n",
       "      <td>...</td>\n",
       "      <td>...</td>\n",
       "      <td>...</td>\n",
       "      <td>...</td>\n",
       "      <td>...</td>\n",
       "      <td>...</td>\n",
       "      <td>...</td>\n",
       "      <td>...</td>\n",
       "      <td>...</td>\n",
       "    </tr>\n",
       "    <tr>\n",
       "      <th>173</th>\n",
       "      <td>3</td>\n",
       "      <td>13.71</td>\n",
       "      <td>5.65</td>\n",
       "      <td>2.45</td>\n",
       "      <td>20.5</td>\n",
       "      <td>95</td>\n",
       "      <td>1.68</td>\n",
       "      <td>0.61</td>\n",
       "      <td>0.52</td>\n",
       "      <td>1.06</td>\n",
       "      <td>7.70</td>\n",
       "      <td>0.64</td>\n",
       "      <td>1.74</td>\n",
       "      <td>740</td>\n",
       "    </tr>\n",
       "    <tr>\n",
       "      <th>174</th>\n",
       "      <td>3</td>\n",
       "      <td>13.40</td>\n",
       "      <td>3.91</td>\n",
       "      <td>2.48</td>\n",
       "      <td>23.0</td>\n",
       "      <td>102</td>\n",
       "      <td>1.80</td>\n",
       "      <td>0.75</td>\n",
       "      <td>0.43</td>\n",
       "      <td>1.41</td>\n",
       "      <td>7.30</td>\n",
       "      <td>0.70</td>\n",
       "      <td>1.56</td>\n",
       "      <td>750</td>\n",
       "    </tr>\n",
       "    <tr>\n",
       "      <th>175</th>\n",
       "      <td>3</td>\n",
       "      <td>13.27</td>\n",
       "      <td>4.28</td>\n",
       "      <td>2.26</td>\n",
       "      <td>20.0</td>\n",
       "      <td>120</td>\n",
       "      <td>1.59</td>\n",
       "      <td>0.69</td>\n",
       "      <td>0.43</td>\n",
       "      <td>1.35</td>\n",
       "      <td>10.20</td>\n",
       "      <td>0.59</td>\n",
       "      <td>1.56</td>\n",
       "      <td>835</td>\n",
       "    </tr>\n",
       "    <tr>\n",
       "      <th>176</th>\n",
       "      <td>3</td>\n",
       "      <td>13.17</td>\n",
       "      <td>2.59</td>\n",
       "      <td>2.37</td>\n",
       "      <td>20.0</td>\n",
       "      <td>120</td>\n",
       "      <td>1.65</td>\n",
       "      <td>0.68</td>\n",
       "      <td>0.53</td>\n",
       "      <td>1.46</td>\n",
       "      <td>9.30</td>\n",
       "      <td>0.60</td>\n",
       "      <td>1.62</td>\n",
       "      <td>840</td>\n",
       "    </tr>\n",
       "    <tr>\n",
       "      <th>177</th>\n",
       "      <td>3</td>\n",
       "      <td>14.13</td>\n",
       "      <td>4.10</td>\n",
       "      <td>2.74</td>\n",
       "      <td>24.5</td>\n",
       "      <td>96</td>\n",
       "      <td>2.05</td>\n",
       "      <td>0.76</td>\n",
       "      <td>0.56</td>\n",
       "      <td>1.35</td>\n",
       "      <td>9.20</td>\n",
       "      <td>0.61</td>\n",
       "      <td>1.60</td>\n",
       "      <td>560</td>\n",
       "    </tr>\n",
       "  </tbody>\n",
       "</table>\n",
       "<p>178 rows × 14 columns</p>\n",
       "</div>"
      ],
      "text/plain": [
       "     Type  Alcohol  Malic   Ash  Alcalinity  Magnesium  Phenols  Flavanoids  \\\n",
       "0       1    14.23   1.71  2.43        15.6        127     2.80        3.06   \n",
       "1       1    13.20   1.78  2.14        11.2        100     2.65        2.76   \n",
       "2       1    13.16   2.36  2.67        18.6        101     2.80        3.24   \n",
       "3       1    14.37   1.95  2.50        16.8        113     3.85        3.49   \n",
       "4       1    13.24   2.59  2.87        21.0        118     2.80        2.69   \n",
       "..    ...      ...    ...   ...         ...        ...      ...         ...   \n",
       "173     3    13.71   5.65  2.45        20.5         95     1.68        0.61   \n",
       "174     3    13.40   3.91  2.48        23.0        102     1.80        0.75   \n",
       "175     3    13.27   4.28  2.26        20.0        120     1.59        0.69   \n",
       "176     3    13.17   2.59  2.37        20.0        120     1.65        0.68   \n",
       "177     3    14.13   4.10  2.74        24.5         96     2.05        0.76   \n",
       "\n",
       "     Nonflavanoids  Proanthocyanins  Color   Hue  Dilution  Proline  \n",
       "0             0.28             2.29   5.64  1.04      3.92     1065  \n",
       "1             0.26             1.28   4.38  1.05      3.40     1050  \n",
       "2             0.30             2.81   5.68  1.03      3.17     1185  \n",
       "3             0.24             2.18   7.80  0.86      3.45     1480  \n",
       "4             0.39             1.82   4.32  1.04      2.93      735  \n",
       "..             ...              ...    ...   ...       ...      ...  \n",
       "173           0.52             1.06   7.70  0.64      1.74      740  \n",
       "174           0.43             1.41   7.30  0.70      1.56      750  \n",
       "175           0.43             1.35  10.20  0.59      1.56      835  \n",
       "176           0.53             1.46   9.30  0.60      1.62      840  \n",
       "177           0.56             1.35   9.20  0.61      1.60      560  \n",
       "\n",
       "[178 rows x 14 columns]"
      ]
     },
     "execution_count": 4,
     "metadata": {},
     "output_type": "execute_result"
    }
   ],
   "source": [
    "wine"
   ]
  },
  {
   "cell_type": "code",
   "execution_count": 5,
   "id": "03162322",
   "metadata": {},
   "outputs": [],
   "source": [
    "df=wine.drop('Type',axis=1)"
   ]
  },
  {
   "cell_type": "code",
   "execution_count": 6,
   "id": "6385f4ca",
   "metadata": {},
   "outputs": [
    {
     "data": {
      "text/html": [
       "<div>\n",
       "<style scoped>\n",
       "    .dataframe tbody tr th:only-of-type {\n",
       "        vertical-align: middle;\n",
       "    }\n",
       "\n",
       "    .dataframe tbody tr th {\n",
       "        vertical-align: top;\n",
       "    }\n",
       "\n",
       "    .dataframe thead th {\n",
       "        text-align: right;\n",
       "    }\n",
       "</style>\n",
       "<table border=\"1\" class=\"dataframe\">\n",
       "  <thead>\n",
       "    <tr style=\"text-align: right;\">\n",
       "      <th></th>\n",
       "      <th>Alcohol</th>\n",
       "      <th>Malic</th>\n",
       "      <th>Ash</th>\n",
       "      <th>Alcalinity</th>\n",
       "      <th>Magnesium</th>\n",
       "      <th>Phenols</th>\n",
       "      <th>Flavanoids</th>\n",
       "      <th>Nonflavanoids</th>\n",
       "      <th>Proanthocyanins</th>\n",
       "      <th>Color</th>\n",
       "      <th>Hue</th>\n",
       "      <th>Dilution</th>\n",
       "      <th>Proline</th>\n",
       "    </tr>\n",
       "  </thead>\n",
       "  <tbody>\n",
       "    <tr>\n",
       "      <th>0</th>\n",
       "      <td>14.23</td>\n",
       "      <td>1.71</td>\n",
       "      <td>2.43</td>\n",
       "      <td>15.6</td>\n",
       "      <td>127</td>\n",
       "      <td>2.80</td>\n",
       "      <td>3.06</td>\n",
       "      <td>0.28</td>\n",
       "      <td>2.29</td>\n",
       "      <td>5.64</td>\n",
       "      <td>1.04</td>\n",
       "      <td>3.92</td>\n",
       "      <td>1065</td>\n",
       "    </tr>\n",
       "    <tr>\n",
       "      <th>1</th>\n",
       "      <td>13.20</td>\n",
       "      <td>1.78</td>\n",
       "      <td>2.14</td>\n",
       "      <td>11.2</td>\n",
       "      <td>100</td>\n",
       "      <td>2.65</td>\n",
       "      <td>2.76</td>\n",
       "      <td>0.26</td>\n",
       "      <td>1.28</td>\n",
       "      <td>4.38</td>\n",
       "      <td>1.05</td>\n",
       "      <td>3.40</td>\n",
       "      <td>1050</td>\n",
       "    </tr>\n",
       "    <tr>\n",
       "      <th>2</th>\n",
       "      <td>13.16</td>\n",
       "      <td>2.36</td>\n",
       "      <td>2.67</td>\n",
       "      <td>18.6</td>\n",
       "      <td>101</td>\n",
       "      <td>2.80</td>\n",
       "      <td>3.24</td>\n",
       "      <td>0.30</td>\n",
       "      <td>2.81</td>\n",
       "      <td>5.68</td>\n",
       "      <td>1.03</td>\n",
       "      <td>3.17</td>\n",
       "      <td>1185</td>\n",
       "    </tr>\n",
       "    <tr>\n",
       "      <th>3</th>\n",
       "      <td>14.37</td>\n",
       "      <td>1.95</td>\n",
       "      <td>2.50</td>\n",
       "      <td>16.8</td>\n",
       "      <td>113</td>\n",
       "      <td>3.85</td>\n",
       "      <td>3.49</td>\n",
       "      <td>0.24</td>\n",
       "      <td>2.18</td>\n",
       "      <td>7.80</td>\n",
       "      <td>0.86</td>\n",
       "      <td>3.45</td>\n",
       "      <td>1480</td>\n",
       "    </tr>\n",
       "    <tr>\n",
       "      <th>4</th>\n",
       "      <td>13.24</td>\n",
       "      <td>2.59</td>\n",
       "      <td>2.87</td>\n",
       "      <td>21.0</td>\n",
       "      <td>118</td>\n",
       "      <td>2.80</td>\n",
       "      <td>2.69</td>\n",
       "      <td>0.39</td>\n",
       "      <td>1.82</td>\n",
       "      <td>4.32</td>\n",
       "      <td>1.04</td>\n",
       "      <td>2.93</td>\n",
       "      <td>735</td>\n",
       "    </tr>\n",
       "  </tbody>\n",
       "</table>\n",
       "</div>"
      ],
      "text/plain": [
       "   Alcohol  Malic   Ash  Alcalinity  Magnesium  Phenols  Flavanoids  \\\n",
       "0    14.23   1.71  2.43        15.6        127     2.80        3.06   \n",
       "1    13.20   1.78  2.14        11.2        100     2.65        2.76   \n",
       "2    13.16   2.36  2.67        18.6        101     2.80        3.24   \n",
       "3    14.37   1.95  2.50        16.8        113     3.85        3.49   \n",
       "4    13.24   2.59  2.87        21.0        118     2.80        2.69   \n",
       "\n",
       "   Nonflavanoids  Proanthocyanins  Color   Hue  Dilution  Proline  \n",
       "0           0.28             2.29   5.64  1.04      3.92     1065  \n",
       "1           0.26             1.28   4.38  1.05      3.40     1050  \n",
       "2           0.30             2.81   5.68  1.03      3.17     1185  \n",
       "3           0.24             2.18   7.80  0.86      3.45     1480  \n",
       "4           0.39             1.82   4.32  1.04      2.93      735  "
      ]
     },
     "execution_count": 6,
     "metadata": {},
     "output_type": "execute_result"
    }
   ],
   "source": [
    "df.head()"
   ]
  },
  {
   "cell_type": "code",
   "execution_count": 7,
   "id": "47726970",
   "metadata": {},
   "outputs": [
    {
     "name": "stdout",
     "output_type": "stream",
     "text": [
      "<class 'pandas.core.frame.DataFrame'>\n",
      "RangeIndex: 178 entries, 0 to 177\n",
      "Data columns (total 13 columns):\n",
      " #   Column           Non-Null Count  Dtype  \n",
      "---  ------           --------------  -----  \n",
      " 0   Alcohol          178 non-null    float64\n",
      " 1   Malic            178 non-null    float64\n",
      " 2   Ash              178 non-null    float64\n",
      " 3   Alcalinity       178 non-null    float64\n",
      " 4   Magnesium        178 non-null    int64  \n",
      " 5   Phenols          178 non-null    float64\n",
      " 6   Flavanoids       178 non-null    float64\n",
      " 7   Nonflavanoids    178 non-null    float64\n",
      " 8   Proanthocyanins  178 non-null    float64\n",
      " 9   Color            178 non-null    float64\n",
      " 10  Hue              178 non-null    float64\n",
      " 11  Dilution         178 non-null    float64\n",
      " 12  Proline          178 non-null    int64  \n",
      "dtypes: float64(11), int64(2)\n",
      "memory usage: 18.2 KB\n"
     ]
    }
   ],
   "source": [
    "df.info()"
   ]
  },
  {
   "cell_type": "code",
   "execution_count": 8,
   "id": "6bf44bdd",
   "metadata": {},
   "outputs": [
    {
     "data": {
      "text/html": [
       "<div>\n",
       "<style scoped>\n",
       "    .dataframe tbody tr th:only-of-type {\n",
       "        vertical-align: middle;\n",
       "    }\n",
       "\n",
       "    .dataframe tbody tr th {\n",
       "        vertical-align: top;\n",
       "    }\n",
       "\n",
       "    .dataframe thead th {\n",
       "        text-align: right;\n",
       "    }\n",
       "</style>\n",
       "<table border=\"1\" class=\"dataframe\">\n",
       "  <thead>\n",
       "    <tr style=\"text-align: right;\">\n",
       "      <th></th>\n",
       "      <th>Alcohol</th>\n",
       "      <th>Malic</th>\n",
       "      <th>Ash</th>\n",
       "      <th>Alcalinity</th>\n",
       "      <th>Magnesium</th>\n",
       "      <th>Phenols</th>\n",
       "      <th>Flavanoids</th>\n",
       "      <th>Nonflavanoids</th>\n",
       "      <th>Proanthocyanins</th>\n",
       "      <th>Color</th>\n",
       "      <th>Hue</th>\n",
       "      <th>Dilution</th>\n",
       "      <th>Proline</th>\n",
       "    </tr>\n",
       "  </thead>\n",
       "  <tbody>\n",
       "  </tbody>\n",
       "</table>\n",
       "</div>"
      ],
      "text/plain": [
       "Empty DataFrame\n",
       "Columns: [Alcohol, Malic, Ash, Alcalinity, Magnesium, Phenols, Flavanoids, Nonflavanoids, Proanthocyanins, Color, Hue, Dilution, Proline]\n",
       "Index: []"
      ]
     },
     "execution_count": 8,
     "metadata": {},
     "output_type": "execute_result"
    }
   ],
   "source": [
    "df[df.duplicated(keep=False)]"
   ]
  },
  {
   "cell_type": "code",
   "execution_count": 9,
   "id": "757542e0",
   "metadata": {},
   "outputs": [
    {
     "data": {
      "text/html": [
       "<div>\n",
       "<style scoped>\n",
       "    .dataframe tbody tr th:only-of-type {\n",
       "        vertical-align: middle;\n",
       "    }\n",
       "\n",
       "    .dataframe tbody tr th {\n",
       "        vertical-align: top;\n",
       "    }\n",
       "\n",
       "    .dataframe thead th {\n",
       "        text-align: right;\n",
       "    }\n",
       "</style>\n",
       "<table border=\"1\" class=\"dataframe\">\n",
       "  <thead>\n",
       "    <tr style=\"text-align: right;\">\n",
       "      <th></th>\n",
       "      <th>Alcohol</th>\n",
       "      <th>Malic</th>\n",
       "      <th>Ash</th>\n",
       "      <th>Alcalinity</th>\n",
       "      <th>Magnesium</th>\n",
       "      <th>Phenols</th>\n",
       "      <th>Flavanoids</th>\n",
       "      <th>Nonflavanoids</th>\n",
       "      <th>Proanthocyanins</th>\n",
       "      <th>Color</th>\n",
       "      <th>Hue</th>\n",
       "      <th>Dilution</th>\n",
       "      <th>Proline</th>\n",
       "    </tr>\n",
       "  </thead>\n",
       "  <tbody>\n",
       "    <tr>\n",
       "      <th>count</th>\n",
       "      <td>178.000000</td>\n",
       "      <td>178.000000</td>\n",
       "      <td>178.000000</td>\n",
       "      <td>178.000000</td>\n",
       "      <td>178.000000</td>\n",
       "      <td>178.000000</td>\n",
       "      <td>178.000000</td>\n",
       "      <td>178.000000</td>\n",
       "      <td>178.000000</td>\n",
       "      <td>178.000000</td>\n",
       "      <td>178.000000</td>\n",
       "      <td>178.000000</td>\n",
       "      <td>178.000000</td>\n",
       "    </tr>\n",
       "    <tr>\n",
       "      <th>mean</th>\n",
       "      <td>13.000618</td>\n",
       "      <td>2.336348</td>\n",
       "      <td>2.366517</td>\n",
       "      <td>19.494944</td>\n",
       "      <td>99.741573</td>\n",
       "      <td>2.295112</td>\n",
       "      <td>2.029270</td>\n",
       "      <td>0.361854</td>\n",
       "      <td>1.590899</td>\n",
       "      <td>5.058090</td>\n",
       "      <td>0.957449</td>\n",
       "      <td>2.611685</td>\n",
       "      <td>746.893258</td>\n",
       "    </tr>\n",
       "    <tr>\n",
       "      <th>std</th>\n",
       "      <td>0.811827</td>\n",
       "      <td>1.117146</td>\n",
       "      <td>0.274344</td>\n",
       "      <td>3.339564</td>\n",
       "      <td>14.282484</td>\n",
       "      <td>0.625851</td>\n",
       "      <td>0.998859</td>\n",
       "      <td>0.124453</td>\n",
       "      <td>0.572359</td>\n",
       "      <td>2.318286</td>\n",
       "      <td>0.228572</td>\n",
       "      <td>0.709990</td>\n",
       "      <td>314.907474</td>\n",
       "    </tr>\n",
       "    <tr>\n",
       "      <th>min</th>\n",
       "      <td>11.030000</td>\n",
       "      <td>0.740000</td>\n",
       "      <td>1.360000</td>\n",
       "      <td>10.600000</td>\n",
       "      <td>70.000000</td>\n",
       "      <td>0.980000</td>\n",
       "      <td>0.340000</td>\n",
       "      <td>0.130000</td>\n",
       "      <td>0.410000</td>\n",
       "      <td>1.280000</td>\n",
       "      <td>0.480000</td>\n",
       "      <td>1.270000</td>\n",
       "      <td>278.000000</td>\n",
       "    </tr>\n",
       "    <tr>\n",
       "      <th>25%</th>\n",
       "      <td>12.362500</td>\n",
       "      <td>1.602500</td>\n",
       "      <td>2.210000</td>\n",
       "      <td>17.200000</td>\n",
       "      <td>88.000000</td>\n",
       "      <td>1.742500</td>\n",
       "      <td>1.205000</td>\n",
       "      <td>0.270000</td>\n",
       "      <td>1.250000</td>\n",
       "      <td>3.220000</td>\n",
       "      <td>0.782500</td>\n",
       "      <td>1.937500</td>\n",
       "      <td>500.500000</td>\n",
       "    </tr>\n",
       "    <tr>\n",
       "      <th>50%</th>\n",
       "      <td>13.050000</td>\n",
       "      <td>1.865000</td>\n",
       "      <td>2.360000</td>\n",
       "      <td>19.500000</td>\n",
       "      <td>98.000000</td>\n",
       "      <td>2.355000</td>\n",
       "      <td>2.135000</td>\n",
       "      <td>0.340000</td>\n",
       "      <td>1.555000</td>\n",
       "      <td>4.690000</td>\n",
       "      <td>0.965000</td>\n",
       "      <td>2.780000</td>\n",
       "      <td>673.500000</td>\n",
       "    </tr>\n",
       "    <tr>\n",
       "      <th>75%</th>\n",
       "      <td>13.677500</td>\n",
       "      <td>3.082500</td>\n",
       "      <td>2.557500</td>\n",
       "      <td>21.500000</td>\n",
       "      <td>107.000000</td>\n",
       "      <td>2.800000</td>\n",
       "      <td>2.875000</td>\n",
       "      <td>0.437500</td>\n",
       "      <td>1.950000</td>\n",
       "      <td>6.200000</td>\n",
       "      <td>1.120000</td>\n",
       "      <td>3.170000</td>\n",
       "      <td>985.000000</td>\n",
       "    </tr>\n",
       "    <tr>\n",
       "      <th>max</th>\n",
       "      <td>14.830000</td>\n",
       "      <td>5.800000</td>\n",
       "      <td>3.230000</td>\n",
       "      <td>30.000000</td>\n",
       "      <td>162.000000</td>\n",
       "      <td>3.880000</td>\n",
       "      <td>5.080000</td>\n",
       "      <td>0.660000</td>\n",
       "      <td>3.580000</td>\n",
       "      <td>13.000000</td>\n",
       "      <td>1.710000</td>\n",
       "      <td>4.000000</td>\n",
       "      <td>1680.000000</td>\n",
       "    </tr>\n",
       "  </tbody>\n",
       "</table>\n",
       "</div>"
      ],
      "text/plain": [
       "          Alcohol       Malic         Ash  Alcalinity   Magnesium     Phenols  \\\n",
       "count  178.000000  178.000000  178.000000  178.000000  178.000000  178.000000   \n",
       "mean    13.000618    2.336348    2.366517   19.494944   99.741573    2.295112   \n",
       "std      0.811827    1.117146    0.274344    3.339564   14.282484    0.625851   \n",
       "min     11.030000    0.740000    1.360000   10.600000   70.000000    0.980000   \n",
       "25%     12.362500    1.602500    2.210000   17.200000   88.000000    1.742500   \n",
       "50%     13.050000    1.865000    2.360000   19.500000   98.000000    2.355000   \n",
       "75%     13.677500    3.082500    2.557500   21.500000  107.000000    2.800000   \n",
       "max     14.830000    5.800000    3.230000   30.000000  162.000000    3.880000   \n",
       "\n",
       "       Flavanoids  Nonflavanoids  Proanthocyanins       Color         Hue  \\\n",
       "count  178.000000     178.000000       178.000000  178.000000  178.000000   \n",
       "mean     2.029270       0.361854         1.590899    5.058090    0.957449   \n",
       "std      0.998859       0.124453         0.572359    2.318286    0.228572   \n",
       "min      0.340000       0.130000         0.410000    1.280000    0.480000   \n",
       "25%      1.205000       0.270000         1.250000    3.220000    0.782500   \n",
       "50%      2.135000       0.340000         1.555000    4.690000    0.965000   \n",
       "75%      2.875000       0.437500         1.950000    6.200000    1.120000   \n",
       "max      5.080000       0.660000         3.580000   13.000000    1.710000   \n",
       "\n",
       "         Dilution      Proline  \n",
       "count  178.000000   178.000000  \n",
       "mean     2.611685   746.893258  \n",
       "std      0.709990   314.907474  \n",
       "min      1.270000   278.000000  \n",
       "25%      1.937500   500.500000  \n",
       "50%      2.780000   673.500000  \n",
       "75%      3.170000   985.000000  \n",
       "max      4.000000  1680.000000  "
      ]
     },
     "execution_count": 9,
     "metadata": {},
     "output_type": "execute_result"
    }
   ],
   "source": [
    "df.describe()"
   ]
  },
  {
   "cell_type": "code",
   "execution_count": 10,
   "id": "05ef68ff",
   "metadata": {},
   "outputs": [
    {
     "name": "stderr",
     "output_type": "stream",
     "text": [
      "C:\\Users\\SP\\anaconda3\\lib\\site-packages\\seaborn\\_decorators.py:36: FutureWarning: Pass the following variable as a keyword arg: x. From version 0.12, the only valid positional argument will be `data`, and passing other arguments without an explicit keyword will result in an error or misinterpretation.\n",
      "  warnings.warn(\n",
      "C:\\Users\\SP\\anaconda3\\lib\\site-packages\\seaborn\\_decorators.py:36: FutureWarning: Pass the following variable as a keyword arg: x. From version 0.12, the only valid positional argument will be `data`, and passing other arguments without an explicit keyword will result in an error or misinterpretation.\n",
      "  warnings.warn(\n",
      "C:\\Users\\SP\\anaconda3\\lib\\site-packages\\seaborn\\_decorators.py:36: FutureWarning: Pass the following variable as a keyword arg: x. From version 0.12, the only valid positional argument will be `data`, and passing other arguments without an explicit keyword will result in an error or misinterpretation.\n",
      "  warnings.warn(\n",
      "C:\\Users\\SP\\anaconda3\\lib\\site-packages\\seaborn\\_decorators.py:36: FutureWarning: Pass the following variable as a keyword arg: x. From version 0.12, the only valid positional argument will be `data`, and passing other arguments without an explicit keyword will result in an error or misinterpretation.\n",
      "  warnings.warn(\n",
      "C:\\Users\\SP\\anaconda3\\lib\\site-packages\\seaborn\\_decorators.py:36: FutureWarning: Pass the following variable as a keyword arg: x. From version 0.12, the only valid positional argument will be `data`, and passing other arguments without an explicit keyword will result in an error or misinterpretation.\n",
      "  warnings.warn(\n",
      "C:\\Users\\SP\\anaconda3\\lib\\site-packages\\seaborn\\_decorators.py:36: FutureWarning: Pass the following variable as a keyword arg: x. From version 0.12, the only valid positional argument will be `data`, and passing other arguments without an explicit keyword will result in an error or misinterpretation.\n",
      "  warnings.warn(\n",
      "C:\\Users\\SP\\anaconda3\\lib\\site-packages\\seaborn\\_decorators.py:36: FutureWarning: Pass the following variable as a keyword arg: x. From version 0.12, the only valid positional argument will be `data`, and passing other arguments without an explicit keyword will result in an error or misinterpretation.\n",
      "  warnings.warn(\n",
      "C:\\Users\\SP\\anaconda3\\lib\\site-packages\\seaborn\\_decorators.py:36: FutureWarning: Pass the following variable as a keyword arg: x. From version 0.12, the only valid positional argument will be `data`, and passing other arguments without an explicit keyword will result in an error or misinterpretation.\n",
      "  warnings.warn(\n",
      "C:\\Users\\SP\\anaconda3\\lib\\site-packages\\seaborn\\_decorators.py:36: FutureWarning: Pass the following variable as a keyword arg: x. From version 0.12, the only valid positional argument will be `data`, and passing other arguments without an explicit keyword will result in an error or misinterpretation.\n",
      "  warnings.warn(\n",
      "C:\\Users\\SP\\anaconda3\\lib\\site-packages\\seaborn\\_decorators.py:36: FutureWarning: Pass the following variable as a keyword arg: x. From version 0.12, the only valid positional argument will be `data`, and passing other arguments without an explicit keyword will result in an error or misinterpretation.\n",
      "  warnings.warn(\n",
      "C:\\Users\\SP\\anaconda3\\lib\\site-packages\\seaborn\\_decorators.py:36: FutureWarning: Pass the following variable as a keyword arg: x. From version 0.12, the only valid positional argument will be `data`, and passing other arguments without an explicit keyword will result in an error or misinterpretation.\n",
      "  warnings.warn(\n",
      "C:\\Users\\SP\\anaconda3\\lib\\site-packages\\seaborn\\_decorators.py:36: FutureWarning: Pass the following variable as a keyword arg: x. From version 0.12, the only valid positional argument will be `data`, and passing other arguments without an explicit keyword will result in an error or misinterpretation.\n",
      "  warnings.warn(\n",
      "C:\\Users\\SP\\anaconda3\\lib\\site-packages\\seaborn\\_decorators.py:36: FutureWarning: Pass the following variable as a keyword arg: x. From version 0.12, the only valid positional argument will be `data`, and passing other arguments without an explicit keyword will result in an error or misinterpretation.\n",
      "  warnings.warn(\n"
     ]
    },
    {
     "data": {
      "image/png": "[encoded data removed]",
      "text/plain": [
       "<Figure size 1500x700 with 15 Axes>"
      ]
     },
     "metadata": {},
     "output_type": "display_data"
    }
   ],
   "source": [
    "fig, ax = plt.subplots(5, 3, figsize=(15,7))\n",
    "sns.boxplot(df.Alcohol,ax=ax[0,0])\n",
    "sns.boxplot(df.Malic,ax=ax[0,1])\n",
    "sns.boxplot(df.Ash,ax=ax[0,2])\n",
    "sns.boxplot(df.Alcalinity,ax=ax[1,0])\n",
    "sns.boxplot(df.Magnesium,ax=ax[1,1])\n",
    "sns.boxplot(df.Phenols,ax=ax[1,2])\n",
    "sns.boxplot(df.Flavanoids,ax=ax[2,0])\n",
    "sns.boxplot(df.Nonflavanoids,ax=ax[2,1])\n",
    "sns.boxplot(df.Proanthocyanins,ax=ax[2,2])\n",
    "sns.boxplot(df.Color,ax=ax[3,0])\n",
    "sns.boxplot(df.Hue,ax=ax[3,1])\n",
    "sns.boxplot(df.Dilution,ax=ax[3,2])\n",
    "sns.boxplot(df.Proline, ax=ax[4,0])\n",
    "plt.tight_layout()\n",
    "plt.show()"
   ]
  },
  {
   "cell_type": "code",
   "execution_count": 11,
   "id": "60676bb5",
   "metadata": {},
   "outputs": [
    {
     "name": "stderr",
     "output_type": "stream",
     "text": [
      "C:\\Users\\SP\\anaconda3\\lib\\site-packages\\seaborn\\distributions.py:2619: FutureWarning: `distplot` is a deprecated function and will be removed in a future version. Please adapt your code to use either `displot` (a figure-level function with similar flexibility) or `histplot` (an axes-level function for histograms).\n",
      "  warnings.warn(msg, FutureWarning)\n",
      "C:\\Users\\SP\\anaconda3\\lib\\site-packages\\seaborn\\distributions.py:2619: FutureWarning: `distplot` is a deprecated function and will be removed in a future version. Please adapt your code to use either `displot` (a figure-level function with similar flexibility) or `histplot` (an axes-level function for histograms).\n",
      "  warnings.warn(msg, FutureWarning)\n",
      "C:\\Users\\SP\\anaconda3\\lib\\site-packages\\seaborn\\distributions.py:2619: FutureWarning: `distplot` is a deprecated function and will be removed in a future version. Please adapt your code to use either `displot` (a figure-level function with similar flexibility) or `histplot` (an axes-level function for histograms).\n",
      "  warnings.warn(msg, FutureWarning)\n",
      "C:\\Users\\SP\\anaconda3\\lib\\site-packages\\seaborn\\distributions.py:2619: FutureWarning: `distplot` is a deprecated function and will be removed in a future version. Please adapt your code to use either `displot` (a figure-level function with similar flexibility) or `histplot` (an axes-level function for histograms).\n",
      "  warnings.warn(msg, FutureWarning)\n",
      "C:\\Users\\SP\\anaconda3\\lib\\site-packages\\seaborn\\distributions.py:2619: FutureWarning: `distplot` is a deprecated function and will be removed in a future version. Please adapt your code to use either `displot` (a figure-level function with similar flexibility) or `histplot` (an axes-level function for histograms).\n",
      "  warnings.warn(msg, FutureWarning)\n",
      "C:\\Users\\SP\\anaconda3\\lib\\site-packages\\seaborn\\distributions.py:2619: FutureWarning: `distplot` is a deprecated function and will be removed in a future version. Please adapt your code to use either `displot` (a figure-level function with similar flexibility) or `histplot` (an axes-level function for histograms).\n",
      "  warnings.warn(msg, FutureWarning)\n",
      "C:\\Users\\SP\\anaconda3\\lib\\site-packages\\seaborn\\distributions.py:2619: FutureWarning: `distplot` is a deprecated function and will be removed in a future version. Please adapt your code to use either `displot` (a figure-level function with similar flexibility) or `histplot` (an axes-level function for histograms).\n",
      "  warnings.warn(msg, FutureWarning)\n",
      "C:\\Users\\SP\\anaconda3\\lib\\site-packages\\seaborn\\distributions.py:2619: FutureWarning: `distplot` is a deprecated function and will be removed in a future version. Please adapt your code to use either `displot` (a figure-level function with similar flexibility) or `histplot` (an axes-level function for histograms).\n",
      "  warnings.warn(msg, FutureWarning)\n",
      "C:\\Users\\SP\\anaconda3\\lib\\site-packages\\seaborn\\distributions.py:2619: FutureWarning: `distplot` is a deprecated function and will be removed in a future version. Please adapt your code to use either `displot` (a figure-level function with similar flexibility) or `histplot` (an axes-level function for histograms).\n",
      "  warnings.warn(msg, FutureWarning)\n",
      "C:\\Users\\SP\\anaconda3\\lib\\site-packages\\seaborn\\distributions.py:2619: FutureWarning: `distplot` is a deprecated function and will be removed in a future version. Please adapt your code to use either `displot` (a figure-level function with similar flexibility) or `histplot` (an axes-level function for histograms).\n",
      "  warnings.warn(msg, FutureWarning)\n",
      "C:\\Users\\SP\\anaconda3\\lib\\site-packages\\seaborn\\distributions.py:2619: FutureWarning: `distplot` is a deprecated function and will be removed in a future version. Please adapt your code to use either `displot` (a figure-level function with similar flexibility) or `histplot` (an axes-level function for histograms).\n",
      "  warnings.warn(msg, FutureWarning)\n",
      "C:\\Users\\SP\\anaconda3\\lib\\site-packages\\seaborn\\distributions.py:2619: FutureWarning: `distplot` is a deprecated function and will be removed in a future version. Please adapt your code to use either `displot` (a figure-level function with similar flexibility) or `histplot` (an axes-level function for histograms).\n",
      "  warnings.warn(msg, FutureWarning)\n",
      "C:\\Users\\SP\\anaconda3\\lib\\site-packages\\seaborn\\distributions.py:2619: FutureWarning: `distplot` is a deprecated function and will be removed in a future version. Please adapt your code to use either `displot` (a figure-level function with similar flexibility) or `histplot` (an axes-level function for histograms).\n",
      "  warnings.warn(msg, FutureWarning)\n"
     ]
    },
    {
     "data": {
      "image/png": "[encoded data removed]",
      "text/plain": [
       "<Figure size 1500x700 with 15 Axes>"
      ]
     },
     "metadata": {},
     "output_type": "display_data"
    }
   ],
   "source": [
    "fig, ax = plt.subplots(5, 3, figsize=(15,7))\n",
    "sns.distplot(df.Alcohol,ax=ax[0,0])\n",
    "sns.distplot(df.Malic,ax=ax[0,1])\n",
    "sns.distplot(df.Ash,ax=ax[0,2])\n",
    "sns.distplot(df.Alcalinity,ax=ax[1,0])\n",
    "sns.distplot(df.Magnesium,ax=ax[1,1])\n",
    "sns.distplot(df.Phenols,ax=ax[1,2])\n",
    "sns.distplot(df.Flavanoids,ax=ax[2,0])\n",
    "sns.distplot(df.Nonflavanoids,ax=ax[2,1])\n",
    "sns.distplot(df.Proanthocyanins,ax=ax[2,2])\n",
    "sns.distplot(df.Color,ax=ax[3,0])\n",
    "sns.distplot(df.Hue,ax=ax[3,1])\n",
    "sns.distplot(df.Dilution,ax=ax[3,2])\n",
    "sns.distplot(df.Proline,ax=ax[4,0])\n",
    "plt.tight_layout()\n",
    "plt.show()"
   ]
  },
  {
   "cell_type": "code",
   "execution_count": 12,
   "id": "9a6484bd",
   "metadata": {},
   "outputs": [],
   "source": [
    "df_norm=scale(df)"
   ]
  },
  {
   "cell_type": "code",
   "execution_count": 13,
   "id": "2b6fd5bc",
   "metadata": {},
   "outputs": [
    {
     "data": {
      "text/plain": [
       "array([[ 1.51861254, -0.5622498 ,  0.23205254, ...,  0.36217728,\n",
       "         1.84791957,  1.01300893],\n",
       "       [ 0.24628963, -0.49941338, -0.82799632, ...,  0.40605066,\n",
       "         1.1134493 ,  0.96524152],\n",
       "       [ 0.19687903,  0.02123125,  1.10933436, ...,  0.31830389,\n",
       "         0.78858745,  1.39514818],\n",
       "       ...,\n",
       "       [ 0.33275817,  1.74474449, -0.38935541, ..., -1.61212515,\n",
       "        -1.48544548,  0.28057537],\n",
       "       [ 0.20923168,  0.22769377,  0.01273209, ..., -1.56825176,\n",
       "        -1.40069891,  0.29649784],\n",
       "       [ 1.39508604,  1.58316512,  1.36520822, ..., -1.52437837,\n",
       "        -1.42894777, -0.59516041]])"
      ]
     },
     "execution_count": 13,
     "metadata": {},
     "output_type": "execute_result"
    }
   ],
   "source": [
    "df_norm"
   ]
  },
  {
   "cell_type": "code",
   "execution_count": 14,
   "id": "f0d77d56",
   "metadata": {},
   "outputs": [],
   "source": [
    "import scipy.cluster.hierarchy as sch\n",
    "from sklearn.cluster import AgglomerativeClustering"
   ]
  },
  {
   "cell_type": "code",
   "execution_count": 15,
   "id": "ee0a0de0",
   "metadata": {},
   "outputs": [
    {
     "data": {
      "text/plain": [
       "Text(0.5, 1.0, 'dendrogram')"
      ]
     },
     "execution_count": 15,
     "metadata": {},
     "output_type": "execute_result"
    },
    {
     "data": {
      "image/png": "[encoded data removed]",
      "text/plain": [
       "<Figure size 1500x1000 with 1 Axes>"
      ]
     },
     "metadata": {},
     "output_type": "display_data"
    }
   ],
   "source": [
    "fig=plt.figure(figsize=(15,10))\n",
    "dendrogram = sch.dendrogram(sch.linkage(df_norm, method='average'))\n",
    "plt.title('dendrogram',size=15)"
   ]
  },
  {
   "cell_type": "code",
   "execution_count": 16,
   "id": "93532424",
   "metadata": {},
   "outputs": [],
   "source": [
    "hc1=AgglomerativeClustering(n_clusters=5, affinity = 'euclidean', linkage = 'average')"
   ]
  },
  {
   "cell_type": "code",
   "execution_count": 17,
   "id": "e4eaeee7",
   "metadata": {},
   "outputs": [],
   "source": [
    "y_hc1=hc1.fit_predict(df_norm)\n",
    "cluster=pd.DataFrame(y_hc1,columns=['cluster'])"
   ]
  },
  {
   "cell_type": "code",
   "execution_count": 18,
   "id": "de4acab1",
   "metadata": {},
   "outputs": [],
   "source": [
    "wine['cluster']=y_hc1"
   ]
  },
  {
   "cell_type": "code",
   "execution_count": 19,
   "id": "ec63abdc",
   "metadata": {},
   "outputs": [
    {
     "data": {
      "text/html": [
       "<div>\n",
       "<style scoped>\n",
       "    .dataframe tbody tr th:only-of-type {\n",
       "        vertical-align: middle;\n",
       "    }\n",
       "\n",
       "    .dataframe tbody tr th {\n",
       "        vertical-align: top;\n",
       "    }\n",
       "\n",
       "    .dataframe thead tr th {\n",
       "        text-align: left;\n",
       "    }\n",
       "</style>\n",
       "<table border=\"1\" class=\"dataframe\">\n",
       "  <thead>\n",
       "    <tr>\n",
       "      <th></th>\n",
       "      <th>cluster</th>\n",
       "      <th>Type</th>\n",
       "      <th>Alcohol</th>\n",
       "      <th>Malic</th>\n",
       "      <th>Ash</th>\n",
       "      <th>Alcalinity</th>\n",
       "      <th>Magnesium</th>\n",
       "      <th>Phenols</th>\n",
       "      <th>Flavanoids</th>\n",
       "      <th>Nonflavanoids</th>\n",
       "      <th>Proanthocyanins</th>\n",
       "      <th>Color</th>\n",
       "      <th>Hue</th>\n",
       "      <th>Dilution</th>\n",
       "      <th>Proline</th>\n",
       "    </tr>\n",
       "    <tr>\n",
       "      <th></th>\n",
       "      <th></th>\n",
       "      <th>mean</th>\n",
       "      <th>mean</th>\n",
       "      <th>mean</th>\n",
       "      <th>mean</th>\n",
       "      <th>mean</th>\n",
       "      <th>mean</th>\n",
       "      <th>mean</th>\n",
       "      <th>mean</th>\n",
       "      <th>mean</th>\n",
       "      <th>mean</th>\n",
       "      <th>mean</th>\n",
       "      <th>mean</th>\n",
       "      <th>mean</th>\n",
       "      <th>mean</th>\n",
       "    </tr>\n",
       "  </thead>\n",
       "  <tbody>\n",
       "    <tr>\n",
       "      <th>0</th>\n",
       "      <td>0</td>\n",
       "      <td>1.500000</td>\n",
       "      <td>13.003879</td>\n",
       "      <td>1.996207</td>\n",
       "      <td>2.343017</td>\n",
       "      <td>18.665517</td>\n",
       "      <td>97.612069</td>\n",
       "      <td>2.568448</td>\n",
       "      <td>2.572069</td>\n",
       "      <td>0.322672</td>\n",
       "      <td>1.776379</td>\n",
       "      <td>4.27931</td>\n",
       "      <td>1.058879</td>\n",
       "      <td>3.017672</td>\n",
       "      <td>802.732759</td>\n",
       "    </tr>\n",
       "    <tr>\n",
       "      <th>1</th>\n",
       "      <td>1</td>\n",
       "      <td>2.888889</td>\n",
       "      <td>13.090185</td>\n",
       "      <td>3.181111</td>\n",
       "      <td>2.414815</td>\n",
       "      <td>21.087037</td>\n",
       "      <td>99.592593</td>\n",
       "      <td>1.697222</td>\n",
       "      <td>0.837778</td>\n",
       "      <td>0.455556</td>\n",
       "      <td>1.126852</td>\n",
       "      <td>6.99463</td>\n",
       "      <td>0.717148</td>\n",
       "      <td>1.710185</td>\n",
       "      <td>629.629630</td>\n",
       "    </tr>\n",
       "    <tr>\n",
       "      <th>2</th>\n",
       "      <td>2</td>\n",
       "      <td>1.666667</td>\n",
       "      <td>12.533333</td>\n",
       "      <td>1.923333</td>\n",
       "      <td>3.016667</td>\n",
       "      <td>27.833333</td>\n",
       "      <td>127.333333</td>\n",
       "      <td>3.036667</td>\n",
       "      <td>3.550000</td>\n",
       "      <td>0.383333</td>\n",
       "      <td>1.916667</td>\n",
       "      <td>4.31000</td>\n",
       "      <td>1.123333</td>\n",
       "      <td>3.463333</td>\n",
       "      <td>760.000000</td>\n",
       "    </tr>\n",
       "    <tr>\n",
       "      <th>3</th>\n",
       "      <td>3</td>\n",
       "      <td>2.000000</td>\n",
       "      <td>12.370000</td>\n",
       "      <td>0.940000</td>\n",
       "      <td>1.360000</td>\n",
       "      <td>10.600000</td>\n",
       "      <td>88.000000</td>\n",
       "      <td>1.980000</td>\n",
       "      <td>0.570000</td>\n",
       "      <td>0.280000</td>\n",
       "      <td>0.420000</td>\n",
       "      <td>1.95000</td>\n",
       "      <td>1.050000</td>\n",
       "      <td>1.820000</td>\n",
       "      <td>520.000000</td>\n",
       "    </tr>\n",
       "    <tr>\n",
       "      <th>4</th>\n",
       "      <td>4</td>\n",
       "      <td>2.000000</td>\n",
       "      <td>12.205000</td>\n",
       "      <td>1.455000</td>\n",
       "      <td>2.160000</td>\n",
       "      <td>18.025000</td>\n",
       "      <td>145.750000</td>\n",
       "      <td>1.962500</td>\n",
       "      <td>1.597500</td>\n",
       "      <td>0.237500</td>\n",
       "      <td>2.525000</td>\n",
       "      <td>2.83750</td>\n",
       "      <td>1.112500</td>\n",
       "      <td>2.567500</td>\n",
       "      <td>757.500000</td>\n",
       "    </tr>\n",
       "  </tbody>\n",
       "</table>\n",
       "</div>"
      ],
      "text/plain": [
       "  cluster      Type    Alcohol     Malic       Ash Alcalinity   Magnesium  \\\n",
       "               mean       mean      mean      mean       mean        mean   \n",
       "0       0  1.500000  13.003879  1.996207  2.343017  18.665517   97.612069   \n",
       "1       1  2.888889  13.090185  3.181111  2.414815  21.087037   99.592593   \n",
       "2       2  1.666667  12.533333  1.923333  3.016667  27.833333  127.333333   \n",
       "3       3  2.000000  12.370000  0.940000  1.360000  10.600000   88.000000   \n",
       "4       4  2.000000  12.205000  1.455000  2.160000  18.025000  145.750000   \n",
       "\n",
       "    Phenols Flavanoids Nonflavanoids Proanthocyanins    Color       Hue  \\\n",
       "       mean       mean          mean            mean     mean      mean   \n",
       "0  2.568448   2.572069      0.322672        1.776379  4.27931  1.058879   \n",
       "1  1.697222   0.837778      0.455556        1.126852  6.99463  0.717148   \n",
       "2  3.036667   3.550000      0.383333        1.916667  4.31000  1.123333   \n",
       "3  1.980000   0.570000      0.280000        0.420000  1.95000  1.050000   \n",
       "4  1.962500   1.597500      0.237500        2.525000  2.83750  1.112500   \n",
       "\n",
       "   Dilution     Proline  \n",
       "       mean        mean  \n",
       "0  3.017672  802.732759  \n",
       "1  1.710185  629.629630  \n",
       "2  3.463333  760.000000  \n",
       "3  1.820000  520.000000  \n",
       "4  2.567500  757.500000  "
      ]
     },
     "execution_count": 19,
     "metadata": {},
     "output_type": "execute_result"
    }
   ],
   "source": [
    "wine.groupby('cluster').agg(['mean']).reset_index()"
   ]
  },
  {
   "cell_type": "code",
   "execution_count": 20,
   "id": "c554cdad",
   "metadata": {},
   "outputs": [
    {
     "name": "stdout",
     "output_type": "stream",
     "text": [
      "cluster 0\n",
      "Total Members: 116\n",
      "\n",
      "cluster 1\n",
      "Total Members: 54\n",
      "\n",
      "cluster 2\n",
      "Total Members: 3\n",
      "\n",
      "cluster 3\n",
      "Total Members: 1\n",
      "\n",
      "cluster 4\n",
      "Total Members: 4\n",
      "\n"
     ]
    }
   ],
   "source": [
    "for i in range(5):\n",
    "    print(\"cluster\", i)\n",
    "   # print(\"The Members:\",(list(airlines[airlines['cluster'] == i]['ID#'].values)))\n",
    "    print(\"Total Members:\", len(list(wine[wine['cluster'] == i]['Type'].values)))\n",
    "    print()"
   ]
  },
  {
   "cell_type": "code",
   "execution_count": 21,
   "id": "fbb7c9c0",
   "metadata": {},
   "outputs": [
    {
     "data": {
      "text/plain": [
       "Text(0.5, 1.0, 'Dendrogram')"
      ]
     },
     "execution_count": 21,
     "metadata": {},
     "output_type": "execute_result"
    },
    {
     "data": {
      "image/png": "[encoded data removed]",
      "text/plain": [
       "<Figure size 1600x1000 with 1 Axes>"
      ]
     },
     "metadata": {},
     "output_type": "display_data"
    }
   ],
   "source": [
    "fig=plt.figure(figsize=(16,10))\n",
    "dendrogram = sch.dendrogram(sch.linkage(df_norm, method='complete'))\n",
    "plt.title(\"Dendrogram\",size=15)"
   ]
  },
  {
   "cell_type": "code",
   "execution_count": 22,
   "id": "c38346ee",
   "metadata": {},
   "outputs": [],
   "source": [
    "hc2=AgglomerativeClustering(n_clusters=5,affinity='euclidean',linkage='complete')"
   ]
  },
  {
   "cell_type": "code",
   "execution_count": 23,
   "id": "2ee61fcc",
   "metadata": {},
   "outputs": [],
   "source": [
    "y_hc2=hc2.fit_predict(df_norm)\n",
    "cluster=pd.DataFrame(y_hc2,columns=['cluster'])"
   ]
  },
  {
   "cell_type": "code",
   "execution_count": 24,
   "id": "477fe99a",
   "metadata": {},
   "outputs": [],
   "source": [
    "wine['cluster']=y_hc2"
   ]
  },
  {
   "cell_type": "code",
   "execution_count": 25,
   "id": "d6a6b885",
   "metadata": {},
   "outputs": [
    {
     "data": {
      "text/html": [
       "<div>\n",
       "<style scoped>\n",
       "    .dataframe tbody tr th:only-of-type {\n",
       "        vertical-align: middle;\n",
       "    }\n",
       "\n",
       "    .dataframe tbody tr th {\n",
       "        vertical-align: top;\n",
       "    }\n",
       "\n",
       "    .dataframe thead tr th {\n",
       "        text-align: left;\n",
       "    }\n",
       "</style>\n",
       "<table border=\"1\" class=\"dataframe\">\n",
       "  <thead>\n",
       "    <tr>\n",
       "      <th></th>\n",
       "      <th>cluster</th>\n",
       "      <th>Type</th>\n",
       "      <th>Alcohol</th>\n",
       "      <th>Malic</th>\n",
       "      <th>Ash</th>\n",
       "      <th>Alcalinity</th>\n",
       "      <th>Magnesium</th>\n",
       "      <th>Phenols</th>\n",
       "      <th>Flavanoids</th>\n",
       "      <th>Nonflavanoids</th>\n",
       "      <th>Proanthocyanins</th>\n",
       "      <th>Color</th>\n",
       "      <th>Hue</th>\n",
       "      <th>Dilution</th>\n",
       "      <th>Proline</th>\n",
       "    </tr>\n",
       "    <tr>\n",
       "      <th></th>\n",
       "      <th></th>\n",
       "      <th>mean</th>\n",
       "      <th>mean</th>\n",
       "      <th>mean</th>\n",
       "      <th>mean</th>\n",
       "      <th>mean</th>\n",
       "      <th>mean</th>\n",
       "      <th>mean</th>\n",
       "      <th>mean</th>\n",
       "      <th>mean</th>\n",
       "      <th>mean</th>\n",
       "      <th>mean</th>\n",
       "      <th>mean</th>\n",
       "      <th>mean</th>\n",
       "      <th>mean</th>\n",
       "    </tr>\n",
       "  </thead>\n",
       "  <tbody>\n",
       "    <tr>\n",
       "      <th>0</th>\n",
       "      <td>0</td>\n",
       "      <td>2.941176</td>\n",
       "      <td>13.117843</td>\n",
       "      <td>3.322157</td>\n",
       "      <td>2.431765</td>\n",
       "      <td>21.333333</td>\n",
       "      <td>99.333333</td>\n",
       "      <td>1.675686</td>\n",
       "      <td>0.810588</td>\n",
       "      <td>0.444314</td>\n",
       "      <td>1.164314</td>\n",
       "      <td>7.170980</td>\n",
       "      <td>0.691373</td>\n",
       "      <td>1.709804</td>\n",
       "      <td>622.490196</td>\n",
       "    </tr>\n",
       "    <tr>\n",
       "      <th>1</th>\n",
       "      <td>1</td>\n",
       "      <td>1.105263</td>\n",
       "      <td>13.604211</td>\n",
       "      <td>1.982807</td>\n",
       "      <td>2.360526</td>\n",
       "      <td>16.652632</td>\n",
       "      <td>106.368421</td>\n",
       "      <td>2.797719</td>\n",
       "      <td>2.920175</td>\n",
       "      <td>0.274386</td>\n",
       "      <td>2.015088</td>\n",
       "      <td>5.326667</td>\n",
       "      <td>1.051579</td>\n",
       "      <td>3.141228</td>\n",
       "      <td>1073.052632</td>\n",
       "    </tr>\n",
       "    <tr>\n",
       "      <th>2</th>\n",
       "      <td>2</td>\n",
       "      <td>2.000000</td>\n",
       "      <td>12.210000</td>\n",
       "      <td>2.008750</td>\n",
       "      <td>2.291250</td>\n",
       "      <td>20.981250</td>\n",
       "      <td>88.375000</td>\n",
       "      <td>2.317292</td>\n",
       "      <td>2.175417</td>\n",
       "      <td>0.363542</td>\n",
       "      <td>1.662917</td>\n",
       "      <td>2.848125</td>\n",
       "      <td>1.038333</td>\n",
       "      <td>2.958333</td>\n",
       "      <td>479.083333</td>\n",
       "    </tr>\n",
       "    <tr>\n",
       "      <th>3</th>\n",
       "      <td>3</td>\n",
       "      <td>2.000000</td>\n",
       "      <td>12.465000</td>\n",
       "      <td>1.500833</td>\n",
       "      <td>2.045833</td>\n",
       "      <td>17.341667</td>\n",
       "      <td>98.500000</td>\n",
       "      <td>1.913333</td>\n",
       "      <td>1.475833</td>\n",
       "      <td>0.402500</td>\n",
       "      <td>0.967500</td>\n",
       "      <td>3.395000</td>\n",
       "      <td>1.155500</td>\n",
       "      <td>2.156667</td>\n",
       "      <td>565.000000</td>\n",
       "    </tr>\n",
       "    <tr>\n",
       "      <th>4</th>\n",
       "      <td>4</td>\n",
       "      <td>1.200000</td>\n",
       "      <td>13.400000</td>\n",
       "      <td>1.899000</td>\n",
       "      <td>2.814000</td>\n",
       "      <td>21.770000</td>\n",
       "      <td>120.100000</td>\n",
       "      <td>2.941000</td>\n",
       "      <td>3.129000</td>\n",
       "      <td>0.383000</td>\n",
       "      <td>1.751000</td>\n",
       "      <td>5.355000</td>\n",
       "      <td>1.152000</td>\n",
       "      <td>3.075000</td>\n",
       "      <td>1026.000000</td>\n",
       "    </tr>\n",
       "  </tbody>\n",
       "</table>\n",
       "</div>"
      ],
      "text/plain": [
       "  cluster      Type    Alcohol     Malic       Ash Alcalinity   Magnesium  \\\n",
       "               mean       mean      mean      mean       mean        mean   \n",
       "0       0  2.941176  13.117843  3.322157  2.431765  21.333333   99.333333   \n",
       "1       1  1.105263  13.604211  1.982807  2.360526  16.652632  106.368421   \n",
       "2       2  2.000000  12.210000  2.008750  2.291250  20.981250   88.375000   \n",
       "3       3  2.000000  12.465000  1.500833  2.045833  17.341667   98.500000   \n",
       "4       4  1.200000  13.400000  1.899000  2.814000  21.770000  120.100000   \n",
       "\n",
       "    Phenols Flavanoids Nonflavanoids Proanthocyanins     Color       Hue  \\\n",
       "       mean       mean          mean            mean      mean      mean   \n",
       "0  1.675686   0.810588      0.444314        1.164314  7.170980  0.691373   \n",
       "1  2.797719   2.920175      0.274386        2.015088  5.326667  1.051579   \n",
       "2  2.317292   2.175417      0.363542        1.662917  2.848125  1.038333   \n",
       "3  1.913333   1.475833      0.402500        0.967500  3.395000  1.155500   \n",
       "4  2.941000   3.129000      0.383000        1.751000  5.355000  1.152000   \n",
       "\n",
       "   Dilution      Proline  \n",
       "       mean         mean  \n",
       "0  1.709804   622.490196  \n",
       "1  3.141228  1073.052632  \n",
       "2  2.958333   479.083333  \n",
       "3  2.156667   565.000000  \n",
       "4  3.075000  1026.000000  "
      ]
     },
     "execution_count": 25,
     "metadata": {},
     "output_type": "execute_result"
    }
   ],
   "source": [
    "wine.groupby('cluster').agg(['mean']).reset_index()"
   ]
  },
  {
   "cell_type": "code",
   "execution_count": 26,
   "id": "c4cd1daa",
   "metadata": {},
   "outputs": [
    {
     "name": "stdout",
     "output_type": "stream",
     "text": [
      "cluster 0\n",
      "total number: 51\n",
      "\n",
      "cluster 1\n",
      "total number: 57\n",
      "\n",
      "cluster 2\n",
      "total number: 48\n",
      "\n",
      "cluster 3\n",
      "total number: 12\n",
      "\n",
      "cluster 4\n",
      "total number: 10\n",
      "\n"
     ]
    }
   ],
   "source": [
    "for i in range(5):\n",
    "    print('cluster',i)\n",
    "    print('total number:',len(list(wine[wine['cluster']==i]['Type'].values)))\n",
    "    print()\n"
   ]
  },
  {
   "cell_type": "code",
   "execution_count": 27,
   "id": "8b5afd32",
   "metadata": {},
   "outputs": [
    {
     "data": {
      "text/plain": [
       "Text(0.5, 1.0, 'dendrogram')"
      ]
     },
     "execution_count": 27,
     "metadata": {},
     "output_type": "execute_result"
    },
    {
     "data": {
      "image/png": "[encoded data removed]",
      "text/plain": [
       "<Figure size 1600x1000 with 1 Axes>"
      ]
     },
     "metadata": {},
     "output_type": "display_data"
    }
   ],
   "source": [
    "fig=plt.figure(figsize=(16,10))\n",
    "dendrogram=sch.dendrogram(sch.linkage(df_norm,method='ward'))\n",
    "plt.title('dendrogram',size=15)"
   ]
  },
  {
   "cell_type": "code",
   "execution_count": 28,
   "id": "f89562ab",
   "metadata": {},
   "outputs": [],
   "source": [
    "hc3=AgglomerativeClustering(n_clusters=3,affinity='euclidean',linkage='ward')"
   ]
  },
  {
   "cell_type": "code",
   "execution_count": 29,
   "id": "f5ce8556",
   "metadata": {},
   "outputs": [],
   "source": [
    "y_hc3 = hc3.fit_predict(df_norm)\n",
    "Cluster=pd.DataFrame(y_hc3,columns=['Cluster'])"
   ]
  },
  {
   "cell_type": "code",
   "execution_count": 30,
   "id": "be468cbc",
   "metadata": {},
   "outputs": [],
   "source": [
    "wine['cluster']=y_hc3"
   ]
  },
  {
   "cell_type": "code",
   "execution_count": 31,
   "id": "dc46f6f0",
   "metadata": {},
   "outputs": [
    {
     "data": {
      "text/html": [
       "<div>\n",
       "<style scoped>\n",
       "    .dataframe tbody tr th:only-of-type {\n",
       "        vertical-align: middle;\n",
       "    }\n",
       "\n",
       "    .dataframe tbody tr th {\n",
       "        vertical-align: top;\n",
       "    }\n",
       "\n",
       "    .dataframe thead tr th {\n",
       "        text-align: left;\n",
       "    }\n",
       "</style>\n",
       "<table border=\"1\" class=\"dataframe\">\n",
       "  <thead>\n",
       "    <tr>\n",
       "      <th></th>\n",
       "      <th>cluster</th>\n",
       "      <th>Type</th>\n",
       "      <th>Alcohol</th>\n",
       "      <th>Malic</th>\n",
       "      <th>Ash</th>\n",
       "      <th>Alcalinity</th>\n",
       "      <th>Magnesium</th>\n",
       "      <th>Phenols</th>\n",
       "      <th>Flavanoids</th>\n",
       "      <th>Nonflavanoids</th>\n",
       "      <th>Proanthocyanins</th>\n",
       "      <th>Color</th>\n",
       "      <th>Hue</th>\n",
       "      <th>Dilution</th>\n",
       "      <th>Proline</th>\n",
       "    </tr>\n",
       "    <tr>\n",
       "      <th></th>\n",
       "      <th></th>\n",
       "      <th>mean</th>\n",
       "      <th>mean</th>\n",
       "      <th>mean</th>\n",
       "      <th>mean</th>\n",
       "      <th>mean</th>\n",
       "      <th>mean</th>\n",
       "      <th>mean</th>\n",
       "      <th>mean</th>\n",
       "      <th>mean</th>\n",
       "      <th>mean</th>\n",
       "      <th>mean</th>\n",
       "      <th>mean</th>\n",
       "      <th>mean</th>\n",
       "      <th>mean</th>\n",
       "    </tr>\n",
       "  </thead>\n",
       "  <tbody>\n",
       "    <tr>\n",
       "      <th>0</th>\n",
       "      <td>0</td>\n",
       "      <td>2.000000</td>\n",
       "      <td>12.203966</td>\n",
       "      <td>1.938966</td>\n",
       "      <td>2.215172</td>\n",
       "      <td>20.208621</td>\n",
       "      <td>92.551724</td>\n",
       "      <td>2.262931</td>\n",
       "      <td>2.088103</td>\n",
       "      <td>0.355345</td>\n",
       "      <td>1.686552</td>\n",
       "      <td>2.895345</td>\n",
       "      <td>1.060000</td>\n",
       "      <td>2.862241</td>\n",
       "      <td>501.431034</td>\n",
       "    </tr>\n",
       "    <tr>\n",
       "      <th>1</th>\n",
       "      <td>1</td>\n",
       "      <td>2.857143</td>\n",
       "      <td>13.061607</td>\n",
       "      <td>3.166607</td>\n",
       "      <td>2.412857</td>\n",
       "      <td>21.003571</td>\n",
       "      <td>99.857143</td>\n",
       "      <td>1.694286</td>\n",
       "      <td>0.847857</td>\n",
       "      <td>0.449464</td>\n",
       "      <td>1.129286</td>\n",
       "      <td>6.850179</td>\n",
       "      <td>0.721000</td>\n",
       "      <td>1.727321</td>\n",
       "      <td>624.946429</td>\n",
       "    </tr>\n",
       "    <tr>\n",
       "      <th>2</th>\n",
       "      <td>2</td>\n",
       "      <td>1.078125</td>\n",
       "      <td>13.669219</td>\n",
       "      <td>1.970000</td>\n",
       "      <td>2.463125</td>\n",
       "      <td>17.528125</td>\n",
       "      <td>106.156250</td>\n",
       "      <td>2.850000</td>\n",
       "      <td>3.009688</td>\n",
       "      <td>0.291094</td>\n",
       "      <td>1.908125</td>\n",
       "      <td>5.450000</td>\n",
       "      <td>1.071406</td>\n",
       "      <td>3.158437</td>\n",
       "      <td>1076.046875</td>\n",
       "    </tr>\n",
       "  </tbody>\n",
       "</table>\n",
       "</div>"
      ],
      "text/plain": [
       "  cluster      Type    Alcohol     Malic       Ash Alcalinity   Magnesium  \\\n",
       "               mean       mean      mean      mean       mean        mean   \n",
       "0       0  2.000000  12.203966  1.938966  2.215172  20.208621   92.551724   \n",
       "1       1  2.857143  13.061607  3.166607  2.412857  21.003571   99.857143   \n",
       "2       2  1.078125  13.669219  1.970000  2.463125  17.528125  106.156250   \n",
       "\n",
       "    Phenols Flavanoids Nonflavanoids Proanthocyanins     Color       Hue  \\\n",
       "       mean       mean          mean            mean      mean      mean   \n",
       "0  2.262931   2.088103      0.355345        1.686552  2.895345  1.060000   \n",
       "1  1.694286   0.847857      0.449464        1.129286  6.850179  0.721000   \n",
       "2  2.850000   3.009688      0.291094        1.908125  5.450000  1.071406   \n",
       "\n",
       "   Dilution      Proline  \n",
       "       mean         mean  \n",
       "0  2.862241   501.431034  \n",
       "1  1.727321   624.946429  \n",
       "2  3.158437  1076.046875  "
      ]
     },
     "execution_count": 31,
     "metadata": {},
     "output_type": "execute_result"
    }
   ],
   "source": [
    "wine.groupby('cluster').agg(['mean']).reset_index()"
   ]
  },
  {
   "cell_type": "code",
   "execution_count": 32,
   "id": "374422b9",
   "metadata": {},
   "outputs": [
    {
     "name": "stdout",
     "output_type": "stream",
     "text": [
      "cluster 0\n",
      "Total Members: 58\n",
      "\n",
      "cluster 1\n",
      "Total Members: 56\n",
      "\n",
      "cluster 2\n",
      "Total Members: 64\n",
      "\n"
     ]
    }
   ],
   "source": [
    "for i in range(3):\n",
    "    print(\"cluster\", i)\n",
    "   # print(\"The Members:\",(list(airlines[airlines['cluster'] == i]['ID#'].values)))\n",
    "    print(\"Total Members:\", len(list(wine[wine['cluster'] == i]['Type'].values)))\n",
    "    print()"
   ]
  },
  {
   "cell_type": "markdown",
   "id": "8f73cae7",
   "metadata": {},
   "source": [
    "## kmeans"
   ]
  },
  {
   "cell_type": "code",
   "execution_count": 33,
   "id": "52e7b7c6",
   "metadata": {},
   "outputs": [
    {
     "name": "stderr",
     "output_type": "stream",
     "text": [
      "C:\\Users\\SP\\anaconda3\\lib\\site-packages\\sklearn\\cluster\\_kmeans.py:1036: UserWarning: KMeans is known to have a memory leak on Windows with MKL, when there are less chunks than available threads. You can avoid it by setting the environment variable OMP_NUM_THREADS=1.\n",
      "  warnings.warn(\n"
     ]
    },
    {
     "data": {
      "image/png": "[encoded data removed]",
      "text/plain": [
       "<Figure size 640x480 with 1 Axes>"
      ]
     },
     "metadata": {},
     "output_type": "display_data"
    }
   ],
   "source": [
    "from sklearn.cluster import KMeans\n",
    "wcss = []\n",
    "for i in range(1, 11):\n",
    "    kmeans = KMeans(n_clusters=i,random_state=0)\n",
    "    kmeans.fit(df_norm)\n",
    "    wcss.append(kmeans.inertia_)\n",
    "    \n",
    "plt.plot(range(1, 11), wcss)\n",
    "plt.title('Elbow Method')\n",
    "plt.xlabel('Number of clusters')\n",
    "plt.ylabel('WCSS')\n",
    "plt.show()"
   ]
  },
  {
   "cell_type": "code",
   "execution_count": 34,
   "id": "6dee3468",
   "metadata": {},
   "outputs": [
    {
     "data": {
      "text/plain": [
       "KMeans(n_clusters=3, random_state=42)"
      ]
     },
     "execution_count": 34,
     "metadata": {},
     "output_type": "execute_result"
    }
   ],
   "source": [
    "from sklearn.cluster import KMeans \n",
    "clusters_new = KMeans(3, random_state=42)\n",
    "clusters_new.fit(df_norm)"
   ]
  },
  {
   "cell_type": "code",
   "execution_count": 35,
   "id": "4be08782",
   "metadata": {},
   "outputs": [],
   "source": [
    "km_label=clusters_new.labels_"
   ]
  },
  {
   "cell_type": "code",
   "execution_count": 36,
   "id": "a3a3e74a",
   "metadata": {},
   "outputs": [],
   "source": [
    "wine['cluster']=clusters_new.labels_"
   ]
  },
  {
   "cell_type": "code",
   "execution_count": 37,
   "id": "829976cb",
   "metadata": {},
   "outputs": [
    {
     "data": {
      "text/plain": [
       "array([[ 0.16490746,  0.87154706,  0.18689833,  0.52436746, -0.07547277,\n",
       "        -0.97933029, -1.21524764,  0.72606354, -0.77970639,  0.94153874,\n",
       "        -1.16478865, -1.29241163, -0.40708796],\n",
       "       [ 0.83523208, -0.30380968,  0.36470604, -0.61019129,  0.5775868 ,\n",
       "         0.88523736,  0.97781956, -0.56208965,  0.58028658,  0.17106348,\n",
       "         0.47398365,  0.77924711,  1.12518529],\n",
       "       [-0.92607185, -0.39404154, -0.49451676,  0.17060184, -0.49171185,\n",
       "        -0.07598265,  0.02081257, -0.03353357,  0.0582655 , -0.90191402,\n",
       "         0.46180361,  0.27076419, -0.75384618]])"
      ]
     },
     "execution_count": 37,
     "metadata": {},
     "output_type": "execute_result"
    }
   ],
   "source": [
    "clusters_new.cluster_centers_"
   ]
  },
  {
   "cell_type": "code",
   "execution_count": 38,
   "id": "233809d4",
   "metadata": {},
   "outputs": [
    {
     "data": {
      "text/html": [
       "<div>\n",
       "<style scoped>\n",
       "    .dataframe tbody tr th:only-of-type {\n",
       "        vertical-align: middle;\n",
       "    }\n",
       "\n",
       "    .dataframe tbody tr th {\n",
       "        vertical-align: top;\n",
       "    }\n",
       "\n",
       "    .dataframe thead tr th {\n",
       "        text-align: left;\n",
       "    }\n",
       "</style>\n",
       "<table border=\"1\" class=\"dataframe\">\n",
       "  <thead>\n",
       "    <tr>\n",
       "      <th></th>\n",
       "      <th>cluster</th>\n",
       "      <th>Type</th>\n",
       "      <th>Alcohol</th>\n",
       "      <th>Malic</th>\n",
       "      <th>Ash</th>\n",
       "      <th>Alcalinity</th>\n",
       "      <th>Magnesium</th>\n",
       "      <th>Phenols</th>\n",
       "      <th>Flavanoids</th>\n",
       "      <th>Nonflavanoids</th>\n",
       "      <th>Proanthocyanins</th>\n",
       "      <th>Color</th>\n",
       "      <th>Hue</th>\n",
       "      <th>Dilution</th>\n",
       "      <th>Proline</th>\n",
       "    </tr>\n",
       "    <tr>\n",
       "      <th></th>\n",
       "      <th></th>\n",
       "      <th>mean</th>\n",
       "      <th>mean</th>\n",
       "      <th>mean</th>\n",
       "      <th>mean</th>\n",
       "      <th>mean</th>\n",
       "      <th>mean</th>\n",
       "      <th>mean</th>\n",
       "      <th>mean</th>\n",
       "      <th>mean</th>\n",
       "      <th>mean</th>\n",
       "      <th>mean</th>\n",
       "      <th>mean</th>\n",
       "      <th>mean</th>\n",
       "      <th>mean</th>\n",
       "    </tr>\n",
       "  </thead>\n",
       "  <tbody>\n",
       "    <tr>\n",
       "      <th>0</th>\n",
       "      <td>0</td>\n",
       "      <td>2.941176</td>\n",
       "      <td>13.134118</td>\n",
       "      <td>3.307255</td>\n",
       "      <td>2.417647</td>\n",
       "      <td>21.241176</td>\n",
       "      <td>98.666667</td>\n",
       "      <td>1.683922</td>\n",
       "      <td>0.818824</td>\n",
       "      <td>0.451961</td>\n",
       "      <td>1.145882</td>\n",
       "      <td>7.234706</td>\n",
       "      <td>0.691961</td>\n",
       "      <td>1.696667</td>\n",
       "      <td>619.058824</td>\n",
       "    </tr>\n",
       "    <tr>\n",
       "      <th>1</th>\n",
       "      <td>1</td>\n",
       "      <td>1.048387</td>\n",
       "      <td>13.676774</td>\n",
       "      <td>1.997903</td>\n",
       "      <td>2.466290</td>\n",
       "      <td>17.462903</td>\n",
       "      <td>107.967742</td>\n",
       "      <td>2.847581</td>\n",
       "      <td>3.003226</td>\n",
       "      <td>0.292097</td>\n",
       "      <td>1.922097</td>\n",
       "      <td>5.453548</td>\n",
       "      <td>1.065484</td>\n",
       "      <td>3.163387</td>\n",
       "      <td>1100.225806</td>\n",
       "    </tr>\n",
       "    <tr>\n",
       "      <th>2</th>\n",
       "      <td>2</td>\n",
       "      <td>2.000000</td>\n",
       "      <td>12.250923</td>\n",
       "      <td>1.897385</td>\n",
       "      <td>2.231231</td>\n",
       "      <td>20.063077</td>\n",
       "      <td>92.738462</td>\n",
       "      <td>2.247692</td>\n",
       "      <td>2.050000</td>\n",
       "      <td>0.357692</td>\n",
       "      <td>1.624154</td>\n",
       "      <td>2.973077</td>\n",
       "      <td>1.062708</td>\n",
       "      <td>2.803385</td>\n",
       "      <td>510.169231</td>\n",
       "    </tr>\n",
       "  </tbody>\n",
       "</table>\n",
       "</div>"
      ],
      "text/plain": [
       "  cluster      Type    Alcohol     Malic       Ash Alcalinity   Magnesium  \\\n",
       "               mean       mean      mean      mean       mean        mean   \n",
       "0       0  2.941176  13.134118  3.307255  2.417647  21.241176   98.666667   \n",
       "1       1  1.048387  13.676774  1.997903  2.466290  17.462903  107.967742   \n",
       "2       2  2.000000  12.250923  1.897385  2.231231  20.063077   92.738462   \n",
       "\n",
       "    Phenols Flavanoids Nonflavanoids Proanthocyanins     Color       Hue  \\\n",
       "       mean       mean          mean            mean      mean      mean   \n",
       "0  1.683922   0.818824      0.451961        1.145882  7.234706  0.691961   \n",
       "1  2.847581   3.003226      0.292097        1.922097  5.453548  1.065484   \n",
       "2  2.247692   2.050000      0.357692        1.624154  2.973077  1.062708   \n",
       "\n",
       "   Dilution      Proline  \n",
       "       mean         mean  \n",
       "0  1.696667   619.058824  \n",
       "1  3.163387  1100.225806  \n",
       "2  2.803385   510.169231  "
      ]
     },
     "execution_count": 38,
     "metadata": {},
     "output_type": "execute_result"
    }
   ],
   "source": [
    "wine.groupby('cluster').agg(['mean']).reset_index()"
   ]
  },
  {
   "cell_type": "code",
   "execution_count": 39,
   "id": "31dfb9bd",
   "metadata": {},
   "outputs": [
    {
     "name": "stdout",
     "output_type": "stream",
     "text": [
      "cluster 0\n",
      "Total Members: 51\n",
      "\n",
      "cluster 1\n",
      "Total Members: 62\n",
      "\n",
      "cluster 2\n",
      "Total Members: 65\n",
      "\n"
     ]
    }
   ],
   "source": [
    "for i in range(3):\n",
    "    print(\"cluster\", i)\n",
    "   # print(\"The Members:\",(list(airlines[airlines['cluster'] == i]['ID#'].values)))\n",
    "    print(\"Total Members:\", len(list(wine[wine['cluster'] == i]['Type'].values)))\n",
    "    print()"
   ]
  },
  {
   "cell_type": "code",
   "execution_count": 40,
   "id": "55089e06",
   "metadata": {},
   "outputs": [],
   "source": [
    "from sklearn import metrics"
   ]
  },
  {
   "cell_type": "code",
   "execution_count": 41,
   "id": "e42e8d83",
   "metadata": {},
   "outputs": [
    {
     "data": {
      "text/plain": [
       "0.22945756295901437"
      ]
     },
     "execution_count": 41,
     "metadata": {},
     "output_type": "execute_result"
    }
   ],
   "source": [
    "SH_average=metrics.silhouette_score(df_norm,y_hc1)\n",
    "SH_average"
   ]
  },
  {
   "cell_type": "code",
   "execution_count": 42,
   "id": "477cc0ec",
   "metadata": {},
   "outputs": [
    {
     "data": {
      "text/plain": [
       "0.18836501623937577"
      ]
     },
     "execution_count": 42,
     "metadata": {},
     "output_type": "execute_result"
    }
   ],
   "source": [
    "SH_complete=metrics.silhouette_score(df_norm,y_hc2)\n",
    "SH_complete"
   ]
  },
  {
   "cell_type": "code",
   "execution_count": 43,
   "id": "011257ee",
   "metadata": {},
   "outputs": [
    {
     "data": {
      "text/plain": [
       "0.2774439826952265"
      ]
     },
     "execution_count": 43,
     "metadata": {},
     "output_type": "execute_result"
    }
   ],
   "source": [
    "SH_ward=metrics.silhouette_score(df_norm,y_hc3)\n",
    "SH_ward"
   ]
  },
  {
   "cell_type": "code",
   "execution_count": 44,
   "id": "cfc26c52",
   "metadata": {},
   "outputs": [
    {
     "data": {
      "text/plain": [
       "0.2848589191898987"
      ]
     },
     "execution_count": 44,
     "metadata": {},
     "output_type": "execute_result"
    }
   ],
   "source": [
    "SH_kmeans=metrics.silhouette_score(df_norm,km_label)\n",
    "SH_kmeans"
   ]
  },
  {
   "cell_type": "markdown",
   "id": "932fba0b",
   "metadata": {},
   "source": [
    "## Now we perform the PCA on the Normalized Data"
   ]
  },
  {
   "cell_type": "code",
   "execution_count": 45,
   "id": "d207748f",
   "metadata": {},
   "outputs": [],
   "source": [
    "pca = PCA(n_components = 13)\n",
    "pca_values = pca.fit_transform(df_norm)"
   ]
  },
  {
   "cell_type": "code",
   "execution_count": 46,
   "id": "8eb1ec21",
   "metadata": {},
   "outputs": [
    {
     "data": {
      "text/plain": [
       "array([0.36198848, 0.1920749 , 0.11123631, 0.0706903 , 0.06563294,\n",
       "       0.04935823, 0.04238679, 0.02680749, 0.02222153, 0.01930019,\n",
       "       0.01736836, 0.01298233, 0.00795215])"
      ]
     },
     "execution_count": 46,
     "metadata": {},
     "output_type": "execute_result"
    }
   ],
   "source": [
    "var = pca.explained_variance_ratio_\n",
    "var"
   ]
  },
  {
   "cell_type": "code",
   "execution_count": 47,
   "id": "37cf490e",
   "metadata": {},
   "outputs": [
    {
     "data": {
      "text/plain": [
       "array([ 36.2 ,  55.41,  66.53,  73.6 ,  80.16,  85.1 ,  89.34,  92.02,\n",
       "        94.24,  96.17,  97.91,  99.21, 100.01])"
      ]
     },
     "execution_count": 47,
     "metadata": {},
     "output_type": "execute_result"
    }
   ],
   "source": [
    "var1 = np.cumsum(np.round(var,decimals = 4)*100)\n",
    "var1"
   ]
  },
  {
   "cell_type": "code",
   "execution_count": 48,
   "id": "8cc8763b",
   "metadata": {},
   "outputs": [
    {
     "data": {
      "text/plain": [
       "array([[ 0.1443294 , -0.24518758, -0.00205106, -0.23932041,  0.14199204,\n",
       "         0.39466085,  0.4229343 , -0.2985331 ,  0.31342949, -0.0886167 ,\n",
       "         0.29671456,  0.37616741,  0.28675223],\n",
       "       [-0.48365155, -0.22493093, -0.31606881,  0.0105905 , -0.299634  ,\n",
       "        -0.06503951,  0.00335981, -0.02877949, -0.03930172, -0.52999567,\n",
       "         0.27923515,  0.16449619, -0.36490283],\n",
       "       [-0.20738262,  0.08901289,  0.6262239 ,  0.61208035,  0.13075693,\n",
       "         0.14617896,  0.1506819 ,  0.17036816,  0.14945431, -0.13730621,\n",
       "         0.08522192,  0.16600459, -0.12674592],\n",
       "       [-0.0178563 ,  0.53689028, -0.21417556,  0.06085941, -0.35179658,\n",
       "         0.19806835,  0.15229479, -0.20330102,  0.39905653,  0.06592568,\n",
       "        -0.42777141,  0.18412074, -0.23207086],\n",
       "       [-0.26566365,  0.03521363, -0.14302547,  0.06610294,  0.72704851,\n",
       "        -0.14931841, -0.10902584, -0.50070298,  0.13685982, -0.07643678,\n",
       "        -0.17361452, -0.10116099, -0.1578688 ],\n",
       "       [-0.21353865, -0.53681385, -0.15447466,  0.10082451, -0.03814394,\n",
       "         0.0841223 ,  0.01892002,  0.25859401,  0.53379539,  0.41864414,\n",
       "        -0.10598274, -0.26585107, -0.11972557],\n",
       "       [-0.05639636,  0.42052391, -0.14917061, -0.28696914,  0.3228833 ,\n",
       "        -0.02792498, -0.06068521,  0.59544729,  0.37213935, -0.22771214,\n",
       "         0.23207564, -0.0447637 ,  0.0768045 ],\n",
       "       [-0.39613926, -0.06582674,  0.17026002, -0.42797018,  0.15636143,\n",
       "         0.40593409,  0.18724536,  0.23328465, -0.36822675,  0.03379692,\n",
       "        -0.43662362,  0.07810789, -0.12002267],\n",
       "       [ 0.50861912, -0.07528304, -0.30769445,  0.20044931,  0.27140257,\n",
       "         0.28603452,  0.04957849,  0.19550132, -0.20914487,  0.05621752,\n",
       "         0.08582839,  0.1372269 , -0.57578611],\n",
       "       [ 0.21160473, -0.30907994, -0.02712539,  0.05279942,  0.06787022,\n",
       "        -0.32013135, -0.16315051,  0.21553507,  0.1341839 , -0.29077518,\n",
       "        -0.52239889,  0.52370587,  0.162116  ],\n",
       "       [-0.22591696,  0.07648554, -0.49869142,  0.47931378,  0.07128891,\n",
       "         0.30434119, -0.02569409,  0.11689586, -0.23736257,  0.0318388 ,\n",
       "        -0.04821201,  0.0464233 ,  0.53926983],\n",
       "       [-0.26628645,  0.12169604, -0.04962237, -0.05574287,  0.06222011,\n",
       "        -0.30388245, -0.04289883,  0.04235219, -0.09555303,  0.60422163,\n",
       "         0.259214  ,  0.60095872, -0.07940162],\n",
       "       [ 0.01496997,  0.02596375, -0.14121803,  0.09168285,  0.05677422,\n",
       "        -0.46390791,  0.83225706,  0.11403985, -0.11691707, -0.0119928 ,\n",
       "        -0.08988884, -0.15671813,  0.01444734]])"
      ]
     },
     "execution_count": 48,
     "metadata": {},
     "output_type": "execute_result"
    }
   ],
   "source": [
    "pca.components_"
   ]
  },
  {
   "cell_type": "code",
   "execution_count": 49,
   "id": "00a2a554",
   "metadata": {},
   "outputs": [
    {
     "data": {
      "text/plain": [
       "[<matplotlib.lines.Line2D at 0x218e4e28130>]"
      ]
     },
     "execution_count": 49,
     "metadata": {},
     "output_type": "execute_result"
    },
    {
     "data": {
      "image/png": "[encoded data removed]",
      "text/plain": [
       "<Figure size 640x480 with 1 Axes>"
      ]
     },
     "metadata": {},
     "output_type": "display_data"
    }
   ],
   "source": [
    "plt.plot(var1)"
   ]
  },
  {
   "cell_type": "code",
   "execution_count": 50,
   "id": "ff597b05",
   "metadata": {},
   "outputs": [],
   "source": [
    "wine_pca=pca_values[:,0:3]"
   ]
  },
  {
   "cell_type": "code",
   "execution_count": 51,
   "id": "3fca0fc1",
   "metadata": {},
   "outputs": [
    {
     "data": {
      "text/plain": [
       "Text(0.5, 1.0, 'dendrogram')"
      ]
     },
     "execution_count": 51,
     "metadata": {},
     "output_type": "execute_result"
    },
    {
     "data": {
      "image/png": "[encoded data removed]",
      "text/plain": [
       "<Figure size 1600x1000 with 1 Axes>"
      ]
     },
     "metadata": {},
     "output_type": "display_data"
    }
   ],
   "source": [
    "fig=plt.figure(figsize=(16,10))\n",
    "dendrogram=sch.dendrogram(sch.linkage(wine_pca,method='ward'))\n",
    "plt.title(\"dendrogram\",size=15)"
   ]
  },
  {
   "cell_type": "code",
   "execution_count": 52,
   "id": "5d5c5660",
   "metadata": {},
   "outputs": [],
   "source": [
    "hc1p = AgglomerativeClustering(n_clusters=3,affinity='euclidean',linkage='ward')"
   ]
  },
  {
   "cell_type": "code",
   "execution_count": 53,
   "id": "3e0ff97b",
   "metadata": {},
   "outputs": [],
   "source": [
    "y_hc1p = hc1p.fit_predict(wine_pca)\n",
    "Clusters=pd.DataFrame(y_hc1p,columns=['Clusters'])"
   ]
  },
  {
   "cell_type": "code",
   "execution_count": 54,
   "id": "98c5c6fd",
   "metadata": {},
   "outputs": [],
   "source": [
    "wine['cluster']=y_hc1p"
   ]
  },
  {
   "cell_type": "code",
   "execution_count": 55,
   "id": "8a31d200",
   "metadata": {},
   "outputs": [
    {
     "data": {
      "text/html": [
       "<div>\n",
       "<style scoped>\n",
       "    .dataframe tbody tr th:only-of-type {\n",
       "        vertical-align: middle;\n",
       "    }\n",
       "\n",
       "    .dataframe tbody tr th {\n",
       "        vertical-align: top;\n",
       "    }\n",
       "\n",
       "    .dataframe thead tr th {\n",
       "        text-align: left;\n",
       "    }\n",
       "</style>\n",
       "<table border=\"1\" class=\"dataframe\">\n",
       "  <thead>\n",
       "    <tr>\n",
       "      <th></th>\n",
       "      <th>cluster</th>\n",
       "      <th>Type</th>\n",
       "      <th>Alcohol</th>\n",
       "      <th>Malic</th>\n",
       "      <th>Ash</th>\n",
       "      <th>Alcalinity</th>\n",
       "      <th>Magnesium</th>\n",
       "      <th>Phenols</th>\n",
       "      <th>Flavanoids</th>\n",
       "      <th>Nonflavanoids</th>\n",
       "      <th>Proanthocyanins</th>\n",
       "      <th>Color</th>\n",
       "      <th>Hue</th>\n",
       "      <th>Dilution</th>\n",
       "      <th>Proline</th>\n",
       "    </tr>\n",
       "    <tr>\n",
       "      <th></th>\n",
       "      <th></th>\n",
       "      <th>mean</th>\n",
       "      <th>mean</th>\n",
       "      <th>mean</th>\n",
       "      <th>mean</th>\n",
       "      <th>mean</th>\n",
       "      <th>mean</th>\n",
       "      <th>mean</th>\n",
       "      <th>mean</th>\n",
       "      <th>mean</th>\n",
       "      <th>mean</th>\n",
       "      <th>mean</th>\n",
       "      <th>mean</th>\n",
       "      <th>mean</th>\n",
       "      <th>mean</th>\n",
       "    </tr>\n",
       "  </thead>\n",
       "  <tbody>\n",
       "    <tr>\n",
       "      <th>0</th>\n",
       "      <td>0</td>\n",
       "      <td>2.030303</td>\n",
       "      <td>12.264242</td>\n",
       "      <td>1.932121</td>\n",
       "      <td>2.245455</td>\n",
       "      <td>20.087879</td>\n",
       "      <td>91.666667</td>\n",
       "      <td>2.220152</td>\n",
       "      <td>1.991364</td>\n",
       "      <td>0.367727</td>\n",
       "      <td>1.540455</td>\n",
       "      <td>3.036364</td>\n",
       "      <td>1.042515</td>\n",
       "      <td>2.729848</td>\n",
       "      <td>504.439394</td>\n",
       "    </tr>\n",
       "    <tr>\n",
       "      <th>1</th>\n",
       "      <td>1</td>\n",
       "      <td>2.978723</td>\n",
       "      <td>13.171489</td>\n",
       "      <td>3.431702</td>\n",
       "      <td>2.441064</td>\n",
       "      <td>21.595745</td>\n",
       "      <td>98.829787</td>\n",
       "      <td>1.674894</td>\n",
       "      <td>0.792979</td>\n",
       "      <td>0.452766</td>\n",
       "      <td>1.165957</td>\n",
       "      <td>7.452553</td>\n",
       "      <td>0.682979</td>\n",
       "      <td>1.702553</td>\n",
       "      <td>627.021277</td>\n",
       "    </tr>\n",
       "    <tr>\n",
       "      <th>2</th>\n",
       "      <td>2</td>\n",
       "      <td>1.092308</td>\n",
       "      <td>13.624769</td>\n",
       "      <td>1.954769</td>\n",
       "      <td>2.435538</td>\n",
       "      <td>17.373846</td>\n",
       "      <td>108.600000</td>\n",
       "      <td>2.819692</td>\n",
       "      <td>2.961692</td>\n",
       "      <td>0.290154</td>\n",
       "      <td>1.949385</td>\n",
       "      <td>5.379538</td>\n",
       "      <td>1.069538</td>\n",
       "      <td>3.149077</td>\n",
       "      <td>1079.753846</td>\n",
       "    </tr>\n",
       "  </tbody>\n",
       "</table>\n",
       "</div>"
      ],
      "text/plain": [
       "  cluster      Type    Alcohol     Malic       Ash Alcalinity   Magnesium  \\\n",
       "               mean       mean      mean      mean       mean        mean   \n",
       "0       0  2.030303  12.264242  1.932121  2.245455  20.087879   91.666667   \n",
       "1       1  2.978723  13.171489  3.431702  2.441064  21.595745   98.829787   \n",
       "2       2  1.092308  13.624769  1.954769  2.435538  17.373846  108.600000   \n",
       "\n",
       "    Phenols Flavanoids Nonflavanoids Proanthocyanins     Color       Hue  \\\n",
       "       mean       mean          mean            mean      mean      mean   \n",
       "0  2.220152   1.991364      0.367727        1.540455  3.036364  1.042515   \n",
       "1  1.674894   0.792979      0.452766        1.165957  7.452553  0.682979   \n",
       "2  2.819692   2.961692      0.290154        1.949385  5.379538  1.069538   \n",
       "\n",
       "   Dilution      Proline  \n",
       "       mean         mean  \n",
       "0  2.729848   504.439394  \n",
       "1  1.702553   627.021277  \n",
       "2  3.149077  1079.753846  "
      ]
     },
     "execution_count": 55,
     "metadata": {},
     "output_type": "execute_result"
    }
   ],
   "source": [
    "wine.groupby('cluster').agg(['mean']).reset_index()"
   ]
  },
  {
   "cell_type": "code",
   "execution_count": 56,
   "id": "f12c5444",
   "metadata": {},
   "outputs": [
    {
     "name": "stdout",
     "output_type": "stream",
     "text": [
      "cluster 0\n",
      "Total Members: 66\n",
      "\n",
      "cluster 1\n",
      "Total Members: 47\n",
      "\n",
      "cluster 2\n",
      "Total Members: 65\n",
      "\n"
     ]
    }
   ],
   "source": [
    "for i in range(3):\n",
    "    print(\"cluster\", i)\n",
    "   # print(\"The Members:\",(list(airlines[airlines['cluster'] == i]['ID#'].values)))\n",
    "    print(\"Total Members:\", len(list(wine[wine['cluster'] == i]['Type'].values)))\n",
    "    print()"
   ]
  },
  {
   "cell_type": "code",
   "execution_count": 57,
   "id": "40b6ea5c",
   "metadata": {},
   "outputs": [
    {
     "data": {
      "text/plain": [
       "Text(0.5, 1.0, 'dendrogram')"
      ]
     },
     "execution_count": 57,
     "metadata": {},
     "output_type": "execute_result"
    },
    {
     "data": {
      "image/png": "[encoded data removed]",
      "text/plain": [
       "<Figure size 1600x1000 with 1 Axes>"
      ]
     },
     "metadata": {},
     "output_type": "display_data"
    }
   ],
   "source": [
    "fig=plt.figure(figsize=(16,10))\n",
    "dendrogram=sch.dendrogram(sch.linkage(wine_pca,method='complete'))\n",
    "plt.title(\"dendrogram\",size=15)"
   ]
  },
  {
   "cell_type": "code",
   "execution_count": 58,
   "id": "a86e02ed",
   "metadata": {},
   "outputs": [],
   "source": [
    "hc2p = AgglomerativeClustering(n_clusters=5,affinity='euclidean',linkage='complete')"
   ]
  },
  {
   "cell_type": "code",
   "execution_count": 59,
   "id": "80c93715",
   "metadata": {},
   "outputs": [],
   "source": [
    "y_hc2p = hc2p.fit_predict(wine_pca)\n",
    "Clusters=pd.DataFrame(y_hc2p,columns=['Cluster'])"
   ]
  },
  {
   "cell_type": "code",
   "execution_count": 60,
   "id": "1c2a32a2",
   "metadata": {},
   "outputs": [],
   "source": [
    "wine['cluster']=y_hc2p"
   ]
  },
  {
   "cell_type": "code",
   "execution_count": 61,
   "id": "e7c178d0",
   "metadata": {},
   "outputs": [
    {
     "data": {
      "text/html": [
       "<div>\n",
       "<style scoped>\n",
       "    .dataframe tbody tr th:only-of-type {\n",
       "        vertical-align: middle;\n",
       "    }\n",
       "\n",
       "    .dataframe tbody tr th {\n",
       "        vertical-align: top;\n",
       "    }\n",
       "\n",
       "    .dataframe thead tr th {\n",
       "        text-align: left;\n",
       "    }\n",
       "</style>\n",
       "<table border=\"1\" class=\"dataframe\">\n",
       "  <thead>\n",
       "    <tr>\n",
       "      <th></th>\n",
       "      <th>cluster</th>\n",
       "      <th>Type</th>\n",
       "      <th>Alcohol</th>\n",
       "      <th>Malic</th>\n",
       "      <th>Ash</th>\n",
       "      <th>Alcalinity</th>\n",
       "      <th>Magnesium</th>\n",
       "      <th>Phenols</th>\n",
       "      <th>Flavanoids</th>\n",
       "      <th>Nonflavanoids</th>\n",
       "      <th>Proanthocyanins</th>\n",
       "      <th>Color</th>\n",
       "      <th>Hue</th>\n",
       "      <th>Dilution</th>\n",
       "      <th>Proline</th>\n",
       "    </tr>\n",
       "    <tr>\n",
       "      <th></th>\n",
       "      <th></th>\n",
       "      <th>mean</th>\n",
       "      <th>mean</th>\n",
       "      <th>mean</th>\n",
       "      <th>mean</th>\n",
       "      <th>mean</th>\n",
       "      <th>mean</th>\n",
       "      <th>mean</th>\n",
       "      <th>mean</th>\n",
       "      <th>mean</th>\n",
       "      <th>mean</th>\n",
       "      <th>mean</th>\n",
       "      <th>mean</th>\n",
       "      <th>mean</th>\n",
       "      <th>mean</th>\n",
       "    </tr>\n",
       "  </thead>\n",
       "  <tbody>\n",
       "    <tr>\n",
       "      <th>0</th>\n",
       "      <td>0</td>\n",
       "      <td>2.940000</td>\n",
       "      <td>13.115600</td>\n",
       "      <td>3.381800</td>\n",
       "      <td>2.449800</td>\n",
       "      <td>21.750000</td>\n",
       "      <td>98.480000</td>\n",
       "      <td>1.701000</td>\n",
       "      <td>0.844400</td>\n",
       "      <td>0.457800</td>\n",
       "      <td>1.190400</td>\n",
       "      <td>7.216000</td>\n",
       "      <td>0.694800</td>\n",
       "      <td>1.741800</td>\n",
       "      <td>619.020000</td>\n",
       "    </tr>\n",
       "    <tr>\n",
       "      <th>1</th>\n",
       "      <td>1</td>\n",
       "      <td>1.256410</td>\n",
       "      <td>13.377692</td>\n",
       "      <td>1.982564</td>\n",
       "      <td>2.391154</td>\n",
       "      <td>17.432051</td>\n",
       "      <td>104.743590</td>\n",
       "      <td>2.812436</td>\n",
       "      <td>2.877051</td>\n",
       "      <td>0.281923</td>\n",
       "      <td>1.985513</td>\n",
       "      <td>4.978462</td>\n",
       "      <td>1.068077</td>\n",
       "      <td>3.118333</td>\n",
       "      <td>979.397436</td>\n",
       "    </tr>\n",
       "    <tr>\n",
       "      <th>2</th>\n",
       "      <td>2</td>\n",
       "      <td>2.045455</td>\n",
       "      <td>12.429091</td>\n",
       "      <td>1.612727</td>\n",
       "      <td>1.984545</td>\n",
       "      <td>17.918182</td>\n",
       "      <td>91.772727</td>\n",
       "      <td>2.021818</td>\n",
       "      <td>1.668636</td>\n",
       "      <td>0.349545</td>\n",
       "      <td>1.211818</td>\n",
       "      <td>3.138636</td>\n",
       "      <td>1.044364</td>\n",
       "      <td>2.534091</td>\n",
       "      <td>522.863636</td>\n",
       "    </tr>\n",
       "    <tr>\n",
       "      <th>3</th>\n",
       "      <td>3</td>\n",
       "      <td>2.000000</td>\n",
       "      <td>12.153200</td>\n",
       "      <td>2.035600</td>\n",
       "      <td>2.381200</td>\n",
       "      <td>21.808000</td>\n",
       "      <td>90.360000</td>\n",
       "      <td>2.020800</td>\n",
       "      <td>1.888800</td>\n",
       "      <td>0.427600</td>\n",
       "      <td>1.455200</td>\n",
       "      <td>2.769600</td>\n",
       "      <td>1.041200</td>\n",
       "      <td>2.736800</td>\n",
       "      <td>472.800000</td>\n",
       "    </tr>\n",
       "    <tr>\n",
       "      <th>4</th>\n",
       "      <td>4</td>\n",
       "      <td>1.666667</td>\n",
       "      <td>12.533333</td>\n",
       "      <td>1.923333</td>\n",
       "      <td>3.016667</td>\n",
       "      <td>27.833333</td>\n",
       "      <td>127.333333</td>\n",
       "      <td>3.036667</td>\n",
       "      <td>3.550000</td>\n",
       "      <td>0.383333</td>\n",
       "      <td>1.916667</td>\n",
       "      <td>4.310000</td>\n",
       "      <td>1.123333</td>\n",
       "      <td>3.463333</td>\n",
       "      <td>760.000000</td>\n",
       "    </tr>\n",
       "  </tbody>\n",
       "</table>\n",
       "</div>"
      ],
      "text/plain": [
       "  cluster      Type    Alcohol     Malic       Ash Alcalinity   Magnesium  \\\n",
       "               mean       mean      mean      mean       mean        mean   \n",
       "0       0  2.940000  13.115600  3.381800  2.449800  21.750000   98.480000   \n",
       "1       1  1.256410  13.377692  1.982564  2.391154  17.432051  104.743590   \n",
       "2       2  2.045455  12.429091  1.612727  1.984545  17.918182   91.772727   \n",
       "3       3  2.000000  12.153200  2.035600  2.381200  21.808000   90.360000   \n",
       "4       4  1.666667  12.533333  1.923333  3.016667  27.833333  127.333333   \n",
       "\n",
       "    Phenols Flavanoids Nonflavanoids Proanthocyanins     Color       Hue  \\\n",
       "       mean       mean          mean            mean      mean      mean   \n",
       "0  1.701000   0.844400      0.457800        1.190400  7.216000  0.694800   \n",
       "1  2.812436   2.877051      0.281923        1.985513  4.978462  1.068077   \n",
       "2  2.021818   1.668636      0.349545        1.211818  3.138636  1.044364   \n",
       "3  2.020800   1.888800      0.427600        1.455200  2.769600  1.041200   \n",
       "4  3.036667   3.550000      0.383333        1.916667  4.310000  1.123333   \n",
       "\n",
       "   Dilution     Proline  \n",
       "       mean        mean  \n",
       "0  1.741800  619.020000  \n",
       "1  3.118333  979.397436  \n",
       "2  2.534091  522.863636  \n",
       "3  2.736800  472.800000  \n",
       "4  3.463333  760.000000  "
      ]
     },
     "execution_count": 61,
     "metadata": {},
     "output_type": "execute_result"
    }
   ],
   "source": [
    "\n",
    "wine.groupby('cluster').agg(['mean']).reset_index()"
   ]
  },
  {
   "cell_type": "code",
   "execution_count": 62,
   "id": "261408ad",
   "metadata": {},
   "outputs": [
    {
     "name": "stdout",
     "output_type": "stream",
     "text": [
      "cluster 0\n",
      "Total Members: 50\n",
      "\n",
      "cluster 1\n",
      "Total Members: 78\n",
      "\n",
      "cluster 2\n",
      "Total Members: 22\n",
      "\n",
      "cluster 3\n",
      "Total Members: 25\n",
      "\n"
     ]
    }
   ],
   "source": [
    "for i in range(4):\n",
    "    print(\"cluster\", i)\n",
    "   # print(\"The Members:\",(list(airlines[airlines['cluster'] == i]['ID#'].values)))\n",
    "    print(\"Total Members:\", len(list(wine[wine['cluster'] == i]['Type'].values)))\n",
    "    print()"
   ]
  },
  {
   "cell_type": "code",
   "execution_count": 63,
   "id": "20c1d503",
   "metadata": {},
   "outputs": [
    {
     "data": {
      "text/plain": [
       "Text(0.5, 1.0, \"{'icoord': [[15.0, 15.0, 25.0, 25.0], [45.0, 45.0, 55.0, 55.0], [35.0, 35.0, 50.0, 50.0], [20.0, 20.0, 42.5, 42.5], [105.0, 105.0, 115.0, 115.0], [95.0, 95.0, 110.0, 110.0], [85.0, 85.0, 102.5, 102.5], [125.0, 125.0, 135.0, 135.0], [93.75, 93.75, 130.0, 130.0], [75.0, 75.0, 111.875, 111.875], [65.0, 65.0, 93.4375, 93.4375], [175.0, 175.0, 185.0, 185.0], [165.0, 165.0, 180.0, 180.0], [155.0, 155.0, 172.5, 172.5], [145.0, 145.0, 163.75, 163.75], [195.0, 195.0, 205.0, 205.0], [154.375, 154.375, 200.0, 200.0], [215.0, 215.0, 225.0, 225.0], [245.0, 245.0, 255.0, 255.0], [235.0, 235.0, 250.0, 250.0], [265.0, 265.0, 275.0, 275.0], [305.0, 305.0, 315.0, 315.0], [295.0, 295.0, 310.0, 310.0], [325.0, 325.0, 335.0, 335.0], [345.0, 345.0, 355.0, 355.0], [330.0, 330.0, 350.0, 350.0], [302.5, 302.5, 340.0, 340.0], [285.0, 285.0, 321.25, 321.25], [270.0, 270.0, 303.125, 303.125], [242.5, 242.5, 286.5625, 286.5625], [220.0, 220.0, 264.53125, 264.53125], [365.0, 365.0, 375.0, 375.0], [385.0, 385.0, 395.0, 395.0], [405.0, 405.0, 415.0, 415.0], [425.0, 425.0, 435.0, 435.0], [410.0, 410.0, 430.0, 430.0], [390.0, 390.0, 420.0, 420.0], [465.0, 465.0, 475.0, 475.0], [455.0, 455.0, 470.0, 470.0], [445.0, 445.0, 462.5, 462.5], [405.0, 405.0, 453.75, 453.75], [495.0, 495.0, 505.0, 505.0], [515.0, 515.0, 525.0, 525.0], [500.0, 500.0, 520.0, 520.0], [485.0, 485.0, 510.0, 510.0], [429.375, 429.375, 497.5, 497.5], [370.0, 370.0, 463.4375, 463.4375], [242.265625, 242.265625, 416.71875, 416.71875], [177.1875, 177.1875, 329.4921875, 329.4921875], [79.21875, 79.21875, 253.33984375, 253.33984375], [31.25, 31.25, 166.279296875, 166.279296875], [555.0, 555.0, 565.0, 565.0], [545.0, 545.0, 560.0, 560.0], [535.0, 535.0, 552.5, 552.5], [575.0, 575.0, 585.0, 585.0], [605.0, 605.0, 615.0, 615.0], [595.0, 595.0, 610.0, 610.0], [580.0, 580.0, 602.5, 602.5], [625.0, 625.0, 635.0, 635.0], [645.0, 645.0, 655.0, 655.0], [630.0, 630.0, 650.0, 650.0], [591.25, 591.25, 640.0, 640.0], [675.0, 675.0, 685.0, 685.0], [665.0, 665.0, 680.0, 680.0], [705.0, 705.0, 715.0, 715.0], [695.0, 695.0, 710.0, 710.0], [745.0, 745.0, 755.0, 755.0], [775.0, 775.0, 785.0, 785.0], [765.0, 765.0, 780.0, 780.0], [750.0, 750.0, 772.5, 772.5], [735.0, 735.0, 761.25, 761.25], [725.0, 725.0, 748.125, 748.125], [702.5, 702.5, 736.5625, 736.5625], [805.0, 805.0, 815.0, 815.0], [825.0, 825.0, 835.0, 835.0], [810.0, 810.0, 830.0, 830.0], [845.0, 845.0, 855.0, 855.0], [865.0, 865.0, 875.0, 875.0], [850.0, 850.0, 870.0, 870.0], [905.0, 905.0, 915.0, 915.0], [895.0, 895.0, 910.0, 910.0], [925.0, 925.0, 935.0, 935.0], [902.5, 902.5, 930.0, 930.0], [885.0, 885.0, 916.25, 916.25], [860.0, 860.0, 900.625, 900.625], [820.0, 820.0, 880.3125, 880.3125], [795.0, 795.0, 850.15625, 850.15625], [719.53125, 719.53125, 822.578125, 822.578125], [955.0, 955.0, 965.0, 965.0], [945.0, 945.0, 960.0, 960.0], [985.0, 985.0, 995.0, 995.0], [975.0, 975.0, 990.0, 990.0], [1015.0, 1015.0, 1025.0, 1025.0], [1005.0, 1005.0, 1020.0, 1020.0], [982.5, 982.5, 1012.5, 1012.5], [952.5, 952.5, 997.5, 997.5], [1045.0, 1045.0, 1055.0, 1055.0], [1035.0, 1035.0, 1050.0, 1050.0], [1085.0, 1085.0, 1095.0, 1095.0], [1075.0, 1075.0, 1090.0, 1090.0], [1115.0, 1115.0, 1125.0, 1125.0], [1105.0, 1105.0, 1120.0, 1120.0], [1135.0, 1135.0, 1145.0, 1145.0], [1112.5, 1112.5, 1140.0, 1140.0], [1165.0, 1165.0, 1175.0, 1175.0], [1155.0, 1155.0, 1170.0, 1170.0], [1126.25, 1126.25, 1162.5, 1162.5], [1082.5, 1082.5, 1144.375, 1144.375], [1065.0, 1065.0, 1113.4375, 1113.4375], [1042.5, 1042.5, 1089.21875, 1089.21875], [975.0, 975.0, 1065.859375, 1065.859375], [771.0546875, 771.0546875, 1020.4296875, 1020.4296875], [672.5, 672.5, 895.7421875, 895.7421875], [615.625, 615.625, 784.12109375, 784.12109375], [1195.0, 1195.0, 1205.0, 1205.0], [1215.0, 1215.0, 1225.0, 1225.0], [1200.0, 1200.0, 1220.0, 1220.0], [1185.0, 1185.0, 1210.0, 1210.0], [1245.0, 1245.0, 1255.0, 1255.0], [1265.0, 1265.0, 1275.0, 1275.0], [1250.0, 1250.0, 1270.0, 1270.0], [1315.0, 1315.0, 1325.0, 1325.0], [1305.0, 1305.0, 1320.0, 1320.0], [1295.0, 1295.0, 1312.5, 1312.5], [1285.0, 1285.0, 1303.75, 1303.75], [1260.0, 1260.0, 1294.375, 1294.375], [1335.0, 1335.0, 1345.0, 1345.0], [1385.0, 1385.0, 1395.0, 1395.0], [1375.0, 1375.0, 1390.0, 1390.0], [1365.0, 1365.0, 1382.5, 1382.5], [1355.0, 1355.0, 1373.75, 1373.75], [1340.0, 1340.0, 1364.375, 1364.375], [1277.1875, 1277.1875, 1352.1875, 1352.1875], [1425.0, 1425.0, 1435.0, 1435.0], [1415.0, 1415.0, 1430.0, 1430.0], [1405.0, 1405.0, 1422.5, 1422.5], [1445.0, 1445.0, 1455.0, 1455.0], [1485.0, 1485.0, 1495.0, 1495.0], [1475.0, 1475.0, 1490.0, 1490.0], [1465.0, 1465.0, 1482.5, 1482.5], [1450.0, 1450.0, 1473.75, 1473.75], [1413.75, 1413.75, 1461.875, 1461.875], [1515.0, 1515.0, 1525.0, 1525.0], [1505.0, 1505.0, 1520.0, 1520.0], [1535.0, 1535.0, 1545.0, 1545.0], [1555.0, 1555.0, 1565.0, 1565.0], [1540.0, 1540.0, 1560.0, 1560.0], [1585.0, 1585.0, 1595.0, 1595.0], [1575.0, 1575.0, 1590.0, 1590.0], [1550.0, 1550.0, 1582.5, 1582.5], [1512.5, 1512.5, 1566.25, 1566.25], [1605.0, 1605.0, 1615.0, 1615.0], [1625.0, 1625.0, 1635.0, 1635.0], [1610.0, 1610.0, 1630.0, 1630.0], [1539.375, 1539.375, 1620.0, 1620.0], [1437.8125, 1437.8125, 1579.6875, 1579.6875], [1645.0, 1645.0, 1655.0, 1655.0], [1665.0, 1665.0, 1675.0, 1675.0], [1685.0, 1685.0, 1695.0, 1695.0], [1705.0, 1705.0, 1715.0, 1715.0], [1690.0, 1690.0, 1710.0, 1710.0], [1735.0, 1735.0, 1745.0, 1745.0], [1725.0, 1725.0, 1740.0, 1740.0], [1700.0, 1700.0, 1732.5, 1732.5], [1670.0, 1670.0, 1716.25, 1716.25], [1765.0, 1765.0, 1775.0, 1775.0], [1755.0, 1755.0, 1770.0, 1770.0], [1693.125, 1693.125, 1762.5, 1762.5], [1650.0, 1650.0, 1727.8125, 1727.8125], [1508.75, 1508.75, 1688.90625, 1688.90625], [1314.6875, 1314.6875, 1598.828125, 1598.828125], [1235.0, 1235.0, 1456.7578125, 1456.7578125], [1197.5, 1197.5, 1345.87890625, 1345.87890625], [699.873046875, 699.873046875, 1271.689453125, 1271.689453125], [543.75, 543.75, 985.78125, 985.78125], [98.7646484375, 98.7646484375, 764.765625, 764.765625], [5.0, 5.0, 431.76513671875, 431.76513671875]], 'dcoord': [[0.0, 0.8006515338954739, 0.8006515338954739, 0.0], [0.0, 0.7918277612834399, 0.7918277612834399, 0.0], [0.0, 0.9774277650428616, 0.9774277650428616, 0.7918277612834399], [0.8006515338954739, 1.6245971356889528, 1.6245971356889528, 0.9774277650428616], [0.0, 0.2511361773504061, 0.2511361773504061, 0.0], [0.0, 0.5527105498319451, 0.5527105498319451, 0.2511361773504061], [0.0, 0.7470898511507751, 0.7470898511507751, 0.5527105498319451], [0.0, 0.9386774297330311, 0.9386774297330311, 0.0], [0.7470898511507751, 1.1428008419507418, 1.1428008419507418, 0.9386774297330311], [0.0, 1.3484887070731997, 1.3484887070731997, 1.1428008419507418], [0.0, 1.8563964634868209, 1.8563964634868209, 1.3484887070731997], [0.0, 0.20945801208834716, 0.20945801208834716, 0.0], [0.0, 0.39182463245099575, 0.39182463245099575, 0.20945801208834716], [0.0, 0.7067155830847954, 0.7067155830847954, 0.39182463245099575], [0.0, 0.7564385568511891, 0.7564385568511891, 0.7067155830847954], [0.0, 0.8565995919255343, 0.8565995919255343, 0.0], [0.7564385568511891, 1.5360015225144314, 1.5360015225144314, 0.8565995919255343], [0.0, 0.751533852892519, 0.751533852892519, 0.0], [0.0, 0.3635554652811792, 0.3635554652811792, 0.0], [0.0, 0.803648620691586, 0.803648620691586, 0.3635554652811792], [0.0, 0.536659307581313, 0.536659307581313, 0.0], [0.0, 0.30906124003514396, 0.30906124003514396, 0.0], [0.0, 0.4791329571065811, 0.4791329571065811, 0.30906124003514396], [0.0, 0.303141673498924, 0.303141673498924, 0.0], [0.0, 0.3832654565785357, 0.3832654565785357, 0.0], [0.303141673498924, 0.5729003135222016, 0.5729003135222016, 0.3832654565785357], [0.4791329571065811, 0.5985449003097717, 0.5985449003097717, 0.5729003135222016], [0.0, 0.8434578210230573, 0.8434578210230573, 0.5985449003097717], [0.536659307581313, 1.0324920344660766, 1.0324920344660766, 0.8434578210230573], [0.803648620691586, 1.1265122182828853, 1.1265122182828853, 1.0324920344660766], [0.751533852892519, 1.2009716107261268, 1.2009716107261268, 1.1265122182828853], [0.0, 0.6454562961257548, 0.6454562961257548, 0.0], [0.0, 0.32456141839506203, 0.32456141839506203, 0.0], [0.0, 0.14072325046107703, 0.14072325046107703, 0.0], [0.0, 0.26647969782857145, 0.26647969782857145, 0.0], [0.14072325046107703, 0.4042572068807456, 0.4042572068807456, 0.26647969782857145], [0.32456141839506203, 0.6044519775682573, 0.6044519775682573, 0.4042572068807456], [0.0, 0.07857086291581689, 0.07857086291581689, 0.0], [0.0, 0.3706957817972144, 0.3706957817972144, 0.07857086291581689], [0.0, 0.7306854894954661, 0.7306854894954661, 0.3706957817972144], [0.6044519775682573, 0.8579781649162048, 0.8579781649162048, 0.7306854894954661], [0.0, 0.5228271933810458, 0.5228271933810458, 0.0], [0.0, 0.5302867778697724, 0.5302867778697724, 0.0], [0.5228271933810458, 0.8391935744239525, 0.8391935744239525, 0.5302867778697724], [0.0, 1.090760698947782, 1.090760698947782, 0.8391935744239525], [0.8579781649162048, 1.2813105045996767, 1.2813105045996767, 1.090760698947782], [0.6454562961257548, 1.5377259900721283, 1.5377259900721283, 1.2813105045996767], [1.2009716107261268, 1.7010810306053965, 1.7010810306053965, 1.5377259900721283], [1.5360015225144314, 2.1579959385356244, 2.1579959385356244, 1.7010810306053965], [1.8563964634868209, 2.444956599650124, 2.444956599650124, 2.1579959385356244], [1.6245971356889528, 2.744549419542869, 2.744549419542869, 2.444956599650124], [0.0, 1.707731489513144, 1.707731489513144, 0.0], [0.0, 2.045736122518836, 2.045736122518836, 1.707731489513144], [0.0, 2.4439907266931695, 2.4439907266931695, 2.045736122518836], [0.0, 0.6379580394262452, 0.6379580394262452, 0.0], [0.0, 0.3402797014759529, 0.3402797014759529, 0.0], [0.0, 0.7211274550325125, 0.7211274550325125, 0.3402797014759529], [0.6379580394262452, 1.4274674117414659, 1.4274674117414659, 0.7211274550325125], [0.0, 0.9674034986678584, 0.9674034986678584, 0.0], [0.0, 1.1243294770343601, 1.1243294770343601, 0.0], [0.9674034986678584, 1.8252015306860307, 1.8252015306860307, 1.1243294770343601], [1.4274674117414659, 2.010942252610172, 2.010942252610172, 1.8252015306860307], [0.0, 0.4456040270852038, 0.4456040270852038, 0.0], [0.0, 1.2813283717600819, 1.2813283717600819, 0.4456040270852038], [0.0, 0.5325803105729308, 0.5325803105729308, 0.0], [0.0, 0.7151102839304988, 0.7151102839304988, 0.5325803105729308], [0.0, 0.2333032676646885, 0.2333032676646885, 0.0], [0.0, 0.3415178208663125, 0.3415178208663125, 0.0], [0.0, 0.48341485324405564, 0.48341485324405564, 0.3415178208663125], [0.2333032676646885, 0.6719172087648607, 0.6719172087648607, 0.48341485324405564], [0.0, 0.8241598490738318, 0.8241598490738318, 0.6719172087648607], [0.0, 0.8877849690188205, 0.8877849690188205, 0.8241598490738318], [0.7151102839304988, 1.087023753391198, 1.087023753391198, 0.8877849690188205], [0.0, 0.2995397812778727, 0.2995397812778727, 0.0], [0.0, 0.3765196428411783, 0.3765196428411783, 0.0], [0.2995397812778727, 0.5624929391607468, 0.5624929391607468, 0.3765196428411783], [0.0, 0.32654155589694006, 0.32654155589694006, 0.0], [0.0, 0.35896076739025223, 0.35896076739025223, 0.0], [0.32654155589694006, 0.44689963709607783, 0.44689963709607783, 0.35896076739025223], [0.0, 0.2561987035095903, 0.2561987035095903, 0.0], [0.0, 0.32100475911489235, 0.32100475911489235, 0.2561987035095903], [0.0, 0.35235645862921733, 0.35235645862921733, 0.0], [0.32100475911489235, 0.47415547887945875, 0.47415547887945875, 0.35235645862921733], [0.0, 0.7455828742440351, 0.7455828742440351, 0.47415547887945875], [0.44689963709607783, 0.7767629262950506, 0.7767629262950506, 0.7455828742440351], [0.5624929391607468, 0.8992503472091332, 0.8992503472091332, 0.7767629262950506], [0.0, 1.1153556205916852, 1.1153556205916852, 0.8992503472091332], [1.087023753391198, 1.388436164947222, 1.388436164947222, 1.1153556205916852], [0.0, 0.6762023262474078, 0.6762023262474078, 0.0], [0.0, 0.8252748391379467, 0.8252748391379467, 0.6762023262474078], [0.0, 0.05147355237047454, 0.05147355237047454, 0.0], [0.0, 0.711883600631086, 0.711883600631086, 0.05147355237047454], [0.0, 0.525901514652966, 0.525901514652966, 0.0], [0.0, 0.7438987102232923, 0.7438987102232923, 0.525901514652966], [0.711883600631086, 1.049436465132142, 1.049436465132142, 0.7438987102232923], [0.8252748391379467, 1.0778196174281118, 1.0778196174281118, 1.049436465132142], [0.0, 0.45476286543598776, 0.45476286543598776, 0.0], [0.0, 0.6305531831363511, 0.6305531831363511, 0.45476286543598776], [0.0, 0.3771904613858202, 0.3771904613858202, 0.0], [0.0, 0.7835986938600206, 0.7835986938600206, 0.3771904613858202], [0.0, 0.2578126772010139, 0.2578126772010139, 0.0], [0.0, 0.31485433413509983, 0.31485433413509983, 0.2578126772010139], [0.0, 0.4053991807627472, 0.4053991807627472, 0.0], [0.31485433413509983, 0.5474786507963761, 0.5474786507963761, 0.4053991807627472], [0.0, 0.22732692169689697, 0.22732692169689697, 0.0], [0.0, 0.5504520885967643, 0.5504520885967643, 0.22732692169689697], [0.5474786507963761, 0.7900826653936182, 0.7900826653936182, 0.5504520885967643], [0.7835986938600206, 1.081659878373338, 1.081659878373338, 0.7900826653936182], [0.0, 1.2144744816080981, 1.2144744816080981, 1.081659878373338], [0.6305531831363511, 1.2980484529731664, 1.2980484529731664, 1.2144744816080981], [1.0778196174281118, 1.624802352139259, 1.624802352139259, 1.2980484529731664], [1.388436164947222, 1.8272139504533316, 1.8272139504533316, 1.624802352139259], [1.2813283717600819, 2.42808746706463, 2.42808746706463, 1.8272139504533316], [2.010942252610172, 2.6466690949899605, 2.6466690949899605, 2.42808746706463], [0.0, 0.7718528772709192, 0.7718528772709192, 0.0], [0.0, 1.0994862803802024, 1.0994862803802024, 0.0], [0.7718528772709192, 1.694845938153219, 1.694845938153219, 1.0994862803802024], [0.0, 1.9678988226368355, 1.9678988226368355, 1.694845938153219], [0.0, 0.5371143249024827, 0.5371143249024827, 0.0], [0.0, 0.5767754488942101, 0.5767754488942101, 0.0], [0.5371143249024827, 0.8422712250971749, 0.8422712250971749, 0.5767754488942101], [0.0, 0.23064262691464582, 0.23064262691464582, 0.0], [0.0, 0.47189808136278616, 0.47189808136278616, 0.23064262691464582], [0.0, 0.8631181377820161, 0.8631181377820161, 0.47189808136278616], [0.0, 1.0630488651045207, 1.0630488651045207, 0.8631181377820161], [0.8422712250971749, 1.2362238414382625, 1.2362238414382625, 1.0630488651045207], [0.0, 0.539966193257087, 0.539966193257087, 0.0], [0.0, 0.4301739999832771, 0.4301739999832771, 0.0], [0.0, 0.7056591991204242, 0.7056591991204242, 0.4301739999832771], [0.0, 0.9052318311812826, 0.9052318311812826, 0.7056591991204242], [0.0, 1.0876328773821746, 1.0876328773821746, 0.9052318311812826], [0.539966193257087, 1.2761088840450867, 1.2761088840450867, 1.0876328773821746], [1.2362238414382625, 1.6931679747509882, 1.6931679747509882, 1.2761088840450867], [0.0, 0.2983632905261433, 0.2983632905261433, 0.0], [0.0, 0.5744766553540805, 0.5744766553540805, 0.2983632905261433], [0.0, 0.7618697819827874, 0.7618697819827874, 0.5744766553540805], [0.0, 0.5547236552076996, 0.5547236552076996, 0.0], [0.0, 0.5252372450229595, 0.5252372450229595, 0.0], [0.0, 0.5350732780091756, 0.5350732780091756, 0.5252372450229595], [0.0, 0.8161351705169082, 0.8161351705169082, 0.5350732780091756], [0.5547236552076996, 0.9794328907603223, 0.9794328907603223, 0.8161351705169082], [0.7618697819827874, 1.277898773456596, 1.277898773456596, 0.9794328907603223], [0.0, 0.3131875176829615, 0.3131875176829615, 0.0], [0.0, 0.5366954507419212, 0.5366954507419212, 0.3131875176829615], [0.0, 0.031084540610584036, 0.031084540610584036, 0.0], [0.0, 0.298717865159774, 0.298717865159774, 0.0], [0.031084540610584036, 0.4291809326466999, 0.4291809326466999, 0.298717865159774], [0.0, 0.3920938946342495, 0.3920938946342495, 0.0], [0.0, 0.6343804179380744, 0.6343804179380744, 0.3920938946342495], [0.4291809326466999, 0.6566234205203166, 0.6566234205203166, 0.6343804179380744], [0.5366954507419212, 0.8871744676391271, 0.8871744676391271, 0.6566234205203166], [0.0, 0.387642719632154, 0.387642719632154, 0.0], [0.0, 0.6557663462842063, 0.6557663462842063, 0.0], [0.387642719632154, 0.9350390876303936, 0.9350390876303936, 0.6557663462842063], [0.8871744676391271, 1.3091308437861238, 1.3091308437861238, 0.9350390876303936], [1.277898773456596, 1.6372375168282638, 1.6372375168282638, 1.3091308437861238], [0.0, 1.1625360312333817, 1.1625360312333817, 0.0], [0.0, 0.3582698889542667, 0.3582698889542667, 0.0], [0.0, 0.229339945730076, 0.229339945730076, 0.0], [0.0, 0.6319077645515179, 0.6319077645515179, 0.0], [0.229339945730076, 0.6585250917047424, 0.6585250917047424, 0.6319077645515179], [0.0, 0.3729792231731404, 0.3729792231731404, 0.0], [0.0, 0.6698649184130303, 0.6698649184130303, 0.3729792231731404], [0.6585250917047424, 0.8638651079758333, 0.8638651079758333, 0.6698649184130303], [0.3582698889542667, 1.2122140122837846, 1.2122140122837846, 0.8638651079758333], [0.0, 0.5675182896388611, 0.5675182896388611, 0.0], [0.0, 1.3457328691329251, 1.3457328691329251, 0.5675182896388611], [1.2122140122837846, 1.5108396100368835, 1.5108396100368835, 1.3457328691329251], [1.1625360312333817, 1.7817345907841107, 1.7817345907841107, 1.5108396100368835], [1.6372375168282638, 2.2643125542207665, 2.2643125542207665, 1.7817345907841107], [1.6931679747509882, 2.450429143615495, 2.450429143615495, 2.2643125542207665], [0.0, 2.7982444176613637, 2.7982444176613637, 2.450429143615495], [1.9678988226368355, 3.023039461859462, 3.023039461859462, 2.7982444176613637], [2.6466690949899605, 4.096706994725527, 4.096706994725527, 3.023039461859462], [2.4439907266931695, 4.502584497632906, 4.502584497632906, 4.096706994725527], [2.744549419542869, 4.903504289979451, 4.903504289979451, 4.502584497632906], [0.0, 6.200875480147065, 6.200875480147065, 4.903504289979451]], 'ivl': ['59', '68', '130', '134', '61', '118', '158', '152', '159', '168', '150', '166', '169', '177', '139', '83', '140', '142', '162', '137', '157', '161', '174', '144', '164', '167', '155', '173', '175', '148', '149', '156', '153', '172', '151', '176', '146', '171', '133', '143', '145', '163', '131', '141', '170', '154', '135', '138', '136', '132', '160', '147', '165', '4', '73', '25', '121', '41', '43', '27', '38', '78', '66', '69', '1', '50', '14', '3', '18', '22', '29', '44', '8', '11', '9', '47', '12', '6', '54', '13', '40', '51', '20', '42', '10', '52', '0', '58', '5', '31', '46', '56', '39', '49', '95', '24', '35', '21', '34', '36', '23', '32', '37', '28', '2', '30', '45', '16', '17', '33', '7', '15', '53', '55', '57', '26', '19', '48', '87', '122', '127', '96', '112', '115', '74', '110', '63', '98', '99', '81', '85', '93', '94', '71', '109', '79', '65', '84', '120', '124', '129', '88', '91', '105', '60', '70', '90', '107', '77', '92', '111', '117', '125', '114', '128', '82', '113', '89', '64', '86', '102', '126', '72', '123', '62', '76', '75', '101', '106', '119', '103', '116', '67', '104', '108', '80', '97', '100'], 'leaves': [59, 68, 130, 134, 61, 118, 158, 152, 159, 168, 150, 166, 169, 177, 139, 83, 140, 142, 162, 137, 157, 161, 174, 144, 164, 167, 155, 173, 175, 148, 149, 156, 153, 172, 151, 176, 146, 171, 133, 143, 145, 163, 131, 141, 170, 154, 135, 138, 136, 132, 160, 147, 165, 4, 73, 25, 121, 41, 43, 27, 38, 78, 66, 69, 1, 50, 14, 3, 18, 22, 29, 44, 8, 11, 9, 47, 12, 6, 54, 13, 40, 51, 20, 42, 10, 52, 0, 58, 5, 31, 46, 56, 39, 49, 95, 24, 35, 21, 34, 36, 23, 32, 37, 28, 2, 30, 45, 16, 17, 33, 7, 15, 53, 55, 57, 26, 19, 48, 87, 122, 127, 96, 112, 115, 74, 110, 63, 98, 99, 81, 85, 93, 94, 71, 109, 79, 65, 84, 120, 124, 129, 88, 91, 105, 60, 70, 90, 107, 77, 92, 111, 117, 125, 114, 128, 82, 113, 89, 64, 86, 102, 126, 72, 123, 62, 76, 75, 101, 106, 119, 103, 116, 67, 104, 108, 80, 97, 100], 'color_list': ['C1', 'C1', 'C1', 'C1', 'C1', 'C1', 'C1', 'C1', 'C1', 'C1', 'C1', 'C1', 'C1', 'C1', 'C1', 'C1', 'C1', 'C1', 'C1', 'C1', 'C1', 'C1', 'C1', 'C1', 'C1', 'C1', 'C1', 'C1', 'C1', 'C1', 'C1', 'C1', 'C1', 'C1', 'C1', 'C1', 'C1', 'C1', 'C1', 'C1', 'C1', 'C1', 'C1', 'C1', 'C1', 'C1', 'C1', 'C1', 'C1', 'C1', 'C1', 'C2', 'C2', 'C2', 'C3', 'C3', 'C3', 'C3', 'C3', 'C3', 'C3', 'C3', 'C3', 'C3', 'C3', 'C3', 'C3', 'C3', 'C3', 'C3', 'C3', 'C3', 'C3', 'C3', 'C3', 'C3', 'C3', 'C3', 'C3', 'C3', 'C3', 'C3', 'C3', 'C3', 'C3', 'C3', 'C3', 'C3', 'C3', 'C3', 'C3', 'C3', 'C3', 'C3', 'C3', 'C3', 'C3', 'C3', 'C3', 'C3', 'C3', 'C3', 'C3', 'C3', 'C3', 'C3', 'C3', 'C3', 'C3', 'C3', 'C3', 'C3', 'C3', 'C3', 'C3', 'C3', 'C3', 'C3', 'C3', 'C3', 'C3', 'C3', 'C3', 'C3', 'C3', 'C3', 'C3', 'C3', 'C3', 'C3', 'C3', 'C3', 'C3', 'C3', 'C3', 'C3', 'C3', 'C3', 'C3', 'C3', 'C3', 'C3', 'C3', 'C3', 'C3', 'C3', 'C3', 'C3', 'C3', 'C3', 'C3', 'C3', 'C3', 'C3', 'C3', 'C3', 'C3', 'C3', 'C3', 'C3', 'C3', 'C3', 'C3', 'C3', 'C3', 'C3', 'C3', 'C3', 'C3', 'C3', 'C3', 'C3', 'C3', 'C3', 'C0', 'C0', 'C0'], 'leaves_color_list': ['C0', 'C1', 'C1', 'C1', 'C1', 'C1', 'C1', 'C1', 'C1', 'C1', 'C1', 'C1', 'C1', 'C1', 'C1', 'C1', 'C1', 'C1', 'C1', 'C1', 'C1', 'C1', 'C1', 'C1', 'C1', 'C1', 'C1', 'C1', 'C1', 'C1', 'C1', 'C1', 'C1', 'C1', 'C1', 'C1', 'C1', 'C1', 'C1', 'C1', 'C1', 'C1', 'C1', 'C1', 'C1', 'C1', 'C1', 'C1', 'C1', 'C1', 'C1', 'C1', 'C1', 'C2', 'C2', 'C2', 'C2', 'C3', 'C3', 'C3', 'C3', 'C3', 'C3', 'C3', 'C3', 'C3', 'C3', 'C3', 'C3', 'C3', 'C3', 'C3', 'C3', 'C3', 'C3', 'C3', 'C3', 'C3', 'C3', 'C3', 'C3', 'C3', 'C3', 'C3', 'C3', 'C3', 'C3', 'C3', 'C3', 'C3', 'C3', 'C3', 'C3', 'C3', 'C3', 'C3', 'C3', 'C3', 'C3', 'C3', 'C3', 'C3', 'C3', 'C3', 'C3', 'C3', 'C3', 'C3', 'C3', 'C3', 'C3', 'C3', 'C3', 'C3', 'C3', 'C3', 'C3', 'C3', 'C3', 'C3', 'C3', 'C3', 'C3', 'C3', 'C3', 'C3', 'C3', 'C3', 'C3', 'C3', 'C3', 'C3', 'C3', 'C3', 'C3', 'C3', 'C3', 'C3', 'C3', 'C3', 'C3', 'C3', 'C3', 'C3', 'C3', 'C3', 'C3', 'C3', 'C3', 'C3', 'C3', 'C3', 'C3', 'C3', 'C3', 'C3', 'C3', 'C3', 'C3', 'C3', 'C3', 'C3', 'C3', 'C3', 'C3', 'C3', 'C3', 'C3', 'C3', 'C3', 'C3', 'C3', 'C3', 'C3', 'C3', 'C3', 'C3', 'C3']}\")"
      ]
     },
     "execution_count": 63,
     "metadata": {},
     "output_type": "execute_result"
    },
    {
     "ename": "ValueError",
     "evalue": "Image size of 242335x837 pixels is too large. It must be less than 2^16 in each direction.",
     "output_type": "error",
     "traceback": [
      "\u001b[1;31m---------------------------------------------------------------------------\u001b[0m",
      "\u001b[1;31mValueError\u001b[0m                                Traceback (most recent call last)",
      "\u001b[1;32m~\\anaconda3\\lib\\site-packages\\IPython\\core\\formatters.py\u001b[0m in \u001b[0;36m__call__\u001b[1;34m(self, obj)\u001b[0m\n\u001b[0;32m    339\u001b[0m                 \u001b[1;32mpass\u001b[0m\u001b[1;33m\u001b[0m\u001b[1;33m\u001b[0m\u001b[0m\n\u001b[0;32m    340\u001b[0m             \u001b[1;32melse\u001b[0m\u001b[1;33m:\u001b[0m\u001b[1;33m\u001b[0m\u001b[1;33m\u001b[0m\u001b[0m\n\u001b[1;32m--> 341\u001b[1;33m                 \u001b[1;32mreturn\u001b[0m \u001b[0mprinter\u001b[0m\u001b[1;33m(\u001b[0m\u001b[0mobj\u001b[0m\u001b[1;33m)\u001b[0m\u001b[1;33m\u001b[0m\u001b[1;33m\u001b[0m\u001b[0m\n\u001b[0m\u001b[0;32m    342\u001b[0m             \u001b[1;31m# Finally look for special method names\u001b[0m\u001b[1;33m\u001b[0m\u001b[1;33m\u001b[0m\u001b[0m\n\u001b[0;32m    343\u001b[0m             \u001b[0mmethod\u001b[0m \u001b[1;33m=\u001b[0m \u001b[0mget_real_method\u001b[0m\u001b[1;33m(\u001b[0m\u001b[0mobj\u001b[0m\u001b[1;33m,\u001b[0m \u001b[0mself\u001b[0m\u001b[1;33m.\u001b[0m\u001b[0mprint_method\u001b[0m\u001b[1;33m)\u001b[0m\u001b[1;33m\u001b[0m\u001b[1;33m\u001b[0m\u001b[0m\n",
      "\u001b[1;32m~\\anaconda3\\lib\\site-packages\\IPython\\core\\pylabtools.py\u001b[0m in \u001b[0;36mprint_figure\u001b[1;34m(fig, fmt, bbox_inches, base64, **kwargs)\u001b[0m\n\u001b[0;32m    149\u001b[0m         \u001b[0mFigureCanvasBase\u001b[0m\u001b[1;33m(\u001b[0m\u001b[0mfig\u001b[0m\u001b[1;33m)\u001b[0m\u001b[1;33m\u001b[0m\u001b[1;33m\u001b[0m\u001b[0m\n\u001b[0;32m    150\u001b[0m \u001b[1;33m\u001b[0m\u001b[0m\n\u001b[1;32m--> 151\u001b[1;33m     \u001b[0mfig\u001b[0m\u001b[1;33m.\u001b[0m\u001b[0mcanvas\u001b[0m\u001b[1;33m.\u001b[0m\u001b[0mprint_figure\u001b[0m\u001b[1;33m(\u001b[0m\u001b[0mbytes_io\u001b[0m\u001b[1;33m,\u001b[0m \u001b[1;33m**\u001b[0m\u001b[0mkw\u001b[0m\u001b[1;33m)\u001b[0m\u001b[1;33m\u001b[0m\u001b[1;33m\u001b[0m\u001b[0m\n\u001b[0m\u001b[0;32m    152\u001b[0m     \u001b[0mdata\u001b[0m \u001b[1;33m=\u001b[0m \u001b[0mbytes_io\u001b[0m\u001b[1;33m.\u001b[0m\u001b[0mgetvalue\u001b[0m\u001b[1;33m(\u001b[0m\u001b[1;33m)\u001b[0m\u001b[1;33m\u001b[0m\u001b[1;33m\u001b[0m\u001b[0m\n\u001b[0;32m    153\u001b[0m     \u001b[1;32mif\u001b[0m \u001b[0mfmt\u001b[0m \u001b[1;33m==\u001b[0m \u001b[1;34m'svg'\u001b[0m\u001b[1;33m:\u001b[0m\u001b[1;33m\u001b[0m\u001b[1;33m\u001b[0m\u001b[0m\n",
      "\u001b[1;32m~\\anaconda3\\lib\\site-packages\\matplotlib\\backend_bases.py\u001b[0m in \u001b[0;36mprint_figure\u001b[1;34m(self, filename, dpi, facecolor, edgecolor, orientation, format, bbox_inches, pad_inches, bbox_extra_artists, backend, **kwargs)\u001b[0m\n\u001b[0;32m   2317\u001b[0m                 \u001b[1;31m# force the figure dpi to 72), so we need to set it again here.\u001b[0m\u001b[1;33m\u001b[0m\u001b[1;33m\u001b[0m\u001b[0m\n\u001b[0;32m   2318\u001b[0m                 \u001b[1;32mwith\u001b[0m \u001b[0mcbook\u001b[0m\u001b[1;33m.\u001b[0m\u001b[0m_setattr_cm\u001b[0m\u001b[1;33m(\u001b[0m\u001b[0mself\u001b[0m\u001b[1;33m.\u001b[0m\u001b[0mfigure\u001b[0m\u001b[1;33m,\u001b[0m \u001b[0mdpi\u001b[0m\u001b[1;33m=\u001b[0m\u001b[0mdpi\u001b[0m\u001b[1;33m)\u001b[0m\u001b[1;33m:\u001b[0m\u001b[1;33m\u001b[0m\u001b[1;33m\u001b[0m\u001b[0m\n\u001b[1;32m-> 2319\u001b[1;33m                     result = print_method(\n\u001b[0m\u001b[0;32m   2320\u001b[0m                         \u001b[0mfilename\u001b[0m\u001b[1;33m,\u001b[0m\u001b[1;33m\u001b[0m\u001b[1;33m\u001b[0m\u001b[0m\n\u001b[0;32m   2321\u001b[0m                         \u001b[0mfacecolor\u001b[0m\u001b[1;33m=\u001b[0m\u001b[0mfacecolor\u001b[0m\u001b[1;33m,\u001b[0m\u001b[1;33m\u001b[0m\u001b[1;33m\u001b[0m\u001b[0m\n",
      "\u001b[1;32m~\\anaconda3\\lib\\site-packages\\matplotlib\\backend_bases.py\u001b[0m in \u001b[0;36mwrapper\u001b[1;34m(*args, **kwargs)\u001b[0m\n\u001b[0;32m   1646\u001b[0m             \u001b[0mkwargs\u001b[0m\u001b[1;33m.\u001b[0m\u001b[0mpop\u001b[0m\u001b[1;33m(\u001b[0m\u001b[0marg\u001b[0m\u001b[1;33m)\u001b[0m\u001b[1;33m\u001b[0m\u001b[1;33m\u001b[0m\u001b[0m\n\u001b[0;32m   1647\u001b[0m \u001b[1;33m\u001b[0m\u001b[0m\n\u001b[1;32m-> 1648\u001b[1;33m         \u001b[1;32mreturn\u001b[0m \u001b[0mfunc\u001b[0m\u001b[1;33m(\u001b[0m\u001b[1;33m*\u001b[0m\u001b[0margs\u001b[0m\u001b[1;33m,\u001b[0m \u001b[1;33m**\u001b[0m\u001b[0mkwargs\u001b[0m\u001b[1;33m)\u001b[0m\u001b[1;33m\u001b[0m\u001b[1;33m\u001b[0m\u001b[0m\n\u001b[0m\u001b[0;32m   1649\u001b[0m \u001b[1;33m\u001b[0m\u001b[0m\n\u001b[0;32m   1650\u001b[0m     \u001b[1;32mreturn\u001b[0m \u001b[0mwrapper\u001b[0m\u001b[1;33m\u001b[0m\u001b[1;33m\u001b[0m\u001b[0m\n",
      "\u001b[1;32m~\\anaconda3\\lib\\site-packages\\matplotlib\\_api\\deprecation.py\u001b[0m in \u001b[0;36mwrapper\u001b[1;34m(*inner_args, **inner_kwargs)\u001b[0m\n\u001b[0;32m    413\u001b[0m                          \u001b[1;32melse\u001b[0m \u001b[0mdeprecation_addendum\u001b[0m\u001b[1;33m,\u001b[0m\u001b[1;33m\u001b[0m\u001b[1;33m\u001b[0m\u001b[0m\n\u001b[0;32m    414\u001b[0m                 **kwargs)\n\u001b[1;32m--> 415\u001b[1;33m         \u001b[1;32mreturn\u001b[0m \u001b[0mfunc\u001b[0m\u001b[1;33m(\u001b[0m\u001b[1;33m*\u001b[0m\u001b[0minner_args\u001b[0m\u001b[1;33m,\u001b[0m \u001b[1;33m**\u001b[0m\u001b[0minner_kwargs\u001b[0m\u001b[1;33m)\u001b[0m\u001b[1;33m\u001b[0m\u001b[1;33m\u001b[0m\u001b[0m\n\u001b[0m\u001b[0;32m    416\u001b[0m \u001b[1;33m\u001b[0m\u001b[0m\n\u001b[0;32m    417\u001b[0m     \u001b[0mDECORATORS\u001b[0m\u001b[1;33m[\u001b[0m\u001b[0mwrapper\u001b[0m\u001b[1;33m]\u001b[0m \u001b[1;33m=\u001b[0m \u001b[0mdecorator\u001b[0m\u001b[1;33m\u001b[0m\u001b[1;33m\u001b[0m\u001b[0m\n",
      "\u001b[1;32m~\\anaconda3\\lib\\site-packages\\matplotlib\\backends\\backend_agg.py\u001b[0m in \u001b[0;36mprint_png\u001b[1;34m(self, filename_or_obj, metadata, pil_kwargs, *args)\u001b[0m\n\u001b[0;32m    538\u001b[0m             \u001b[1;33m*\u001b[0m\u001b[0mmetadata\u001b[0m\u001b[1;33m*\u001b[0m\u001b[1;33m,\u001b[0m \u001b[0mincluding\u001b[0m \u001b[0mthe\u001b[0m \u001b[0mdefault\u001b[0m \u001b[1;34m'Software'\u001b[0m \u001b[0mkey\u001b[0m\u001b[1;33m.\u001b[0m\u001b[1;33m\u001b[0m\u001b[1;33m\u001b[0m\u001b[0m\n\u001b[0;32m    539\u001b[0m         \"\"\"\n\u001b[1;32m--> 540\u001b[1;33m         \u001b[0mFigureCanvasAgg\u001b[0m\u001b[1;33m.\u001b[0m\u001b[0mdraw\u001b[0m\u001b[1;33m(\u001b[0m\u001b[0mself\u001b[0m\u001b[1;33m)\u001b[0m\u001b[1;33m\u001b[0m\u001b[1;33m\u001b[0m\u001b[0m\n\u001b[0m\u001b[0;32m    541\u001b[0m         mpl.image.imsave(\n\u001b[0;32m    542\u001b[0m             \u001b[0mfilename_or_obj\u001b[0m\u001b[1;33m,\u001b[0m \u001b[0mself\u001b[0m\u001b[1;33m.\u001b[0m\u001b[0mbuffer_rgba\u001b[0m\u001b[1;33m(\u001b[0m\u001b[1;33m)\u001b[0m\u001b[1;33m,\u001b[0m \u001b[0mformat\u001b[0m\u001b[1;33m=\u001b[0m\u001b[1;34m\"png\"\u001b[0m\u001b[1;33m,\u001b[0m \u001b[0morigin\u001b[0m\u001b[1;33m=\u001b[0m\u001b[1;34m\"upper\"\u001b[0m\u001b[1;33m,\u001b[0m\u001b[1;33m\u001b[0m\u001b[1;33m\u001b[0m\u001b[0m\n",
      "\u001b[1;32m~\\anaconda3\\lib\\site-packages\\matplotlib\\backends\\backend_agg.py\u001b[0m in \u001b[0;36mdraw\u001b[1;34m(self)\u001b[0m\n\u001b[0;32m    429\u001b[0m     \u001b[1;32mdef\u001b[0m \u001b[0mdraw\u001b[0m\u001b[1;33m(\u001b[0m\u001b[0mself\u001b[0m\u001b[1;33m)\u001b[0m\u001b[1;33m:\u001b[0m\u001b[1;33m\u001b[0m\u001b[1;33m\u001b[0m\u001b[0m\n\u001b[0;32m    430\u001b[0m         \u001b[1;31m# docstring inherited\u001b[0m\u001b[1;33m\u001b[0m\u001b[1;33m\u001b[0m\u001b[0m\n\u001b[1;32m--> 431\u001b[1;33m         \u001b[0mself\u001b[0m\u001b[1;33m.\u001b[0m\u001b[0mrenderer\u001b[0m \u001b[1;33m=\u001b[0m \u001b[0mself\u001b[0m\u001b[1;33m.\u001b[0m\u001b[0mget_renderer\u001b[0m\u001b[1;33m(\u001b[0m\u001b[0mcleared\u001b[0m\u001b[1;33m=\u001b[0m\u001b[1;32mTrue\u001b[0m\u001b[1;33m)\u001b[0m\u001b[1;33m\u001b[0m\u001b[1;33m\u001b[0m\u001b[0m\n\u001b[0m\u001b[0;32m    432\u001b[0m         \u001b[1;31m# Acquire a lock on the shared font cache.\u001b[0m\u001b[1;33m\u001b[0m\u001b[1;33m\u001b[0m\u001b[0m\n\u001b[0;32m    433\u001b[0m         \u001b[1;32mwith\u001b[0m \u001b[0mRendererAgg\u001b[0m\u001b[1;33m.\u001b[0m\u001b[0mlock\u001b[0m\u001b[1;33m,\u001b[0m\u001b[0;31m \u001b[0m\u001b[0;31m\\\u001b[0m\u001b[1;33m\u001b[0m\u001b[1;33m\u001b[0m\u001b[0m\n",
      "\u001b[1;32m~\\anaconda3\\lib\\site-packages\\matplotlib\\backends\\backend_agg.py\u001b[0m in \u001b[0;36mget_renderer\u001b[1;34m(self, cleared)\u001b[0m\n\u001b[0;32m    445\u001b[0m                           and getattr(self, \"_lastKey\", None) == key)\n\u001b[0;32m    446\u001b[0m         \u001b[1;32mif\u001b[0m \u001b[1;32mnot\u001b[0m \u001b[0mreuse_renderer\u001b[0m\u001b[1;33m:\u001b[0m\u001b[1;33m\u001b[0m\u001b[1;33m\u001b[0m\u001b[0m\n\u001b[1;32m--> 447\u001b[1;33m             \u001b[0mself\u001b[0m\u001b[1;33m.\u001b[0m\u001b[0mrenderer\u001b[0m \u001b[1;33m=\u001b[0m \u001b[0mRendererAgg\u001b[0m\u001b[1;33m(\u001b[0m\u001b[0mw\u001b[0m\u001b[1;33m,\u001b[0m \u001b[0mh\u001b[0m\u001b[1;33m,\u001b[0m \u001b[0mself\u001b[0m\u001b[1;33m.\u001b[0m\u001b[0mfigure\u001b[0m\u001b[1;33m.\u001b[0m\u001b[0mdpi\u001b[0m\u001b[1;33m)\u001b[0m\u001b[1;33m\u001b[0m\u001b[1;33m\u001b[0m\u001b[0m\n\u001b[0m\u001b[0;32m    448\u001b[0m             \u001b[0mself\u001b[0m\u001b[1;33m.\u001b[0m\u001b[0m_lastKey\u001b[0m \u001b[1;33m=\u001b[0m \u001b[0mkey\u001b[0m\u001b[1;33m\u001b[0m\u001b[1;33m\u001b[0m\u001b[0m\n\u001b[0;32m    449\u001b[0m         \u001b[1;32melif\u001b[0m \u001b[0mcleared\u001b[0m\u001b[1;33m:\u001b[0m\u001b[1;33m\u001b[0m\u001b[1;33m\u001b[0m\u001b[0m\n",
      "\u001b[1;32m~\\anaconda3\\lib\\site-packages\\matplotlib\\backends\\backend_agg.py\u001b[0m in \u001b[0;36m__init__\u001b[1;34m(self, width, height, dpi)\u001b[0m\n\u001b[0;32m     91\u001b[0m         \u001b[0mself\u001b[0m\u001b[1;33m.\u001b[0m\u001b[0mwidth\u001b[0m \u001b[1;33m=\u001b[0m \u001b[0mwidth\u001b[0m\u001b[1;33m\u001b[0m\u001b[1;33m\u001b[0m\u001b[0m\n\u001b[0;32m     92\u001b[0m         \u001b[0mself\u001b[0m\u001b[1;33m.\u001b[0m\u001b[0mheight\u001b[0m \u001b[1;33m=\u001b[0m \u001b[0mheight\u001b[0m\u001b[1;33m\u001b[0m\u001b[1;33m\u001b[0m\u001b[0m\n\u001b[1;32m---> 93\u001b[1;33m         \u001b[0mself\u001b[0m\u001b[1;33m.\u001b[0m\u001b[0m_renderer\u001b[0m \u001b[1;33m=\u001b[0m \u001b[0m_RendererAgg\u001b[0m\u001b[1;33m(\u001b[0m\u001b[0mint\u001b[0m\u001b[1;33m(\u001b[0m\u001b[0mwidth\u001b[0m\u001b[1;33m)\u001b[0m\u001b[1;33m,\u001b[0m \u001b[0mint\u001b[0m\u001b[1;33m(\u001b[0m\u001b[0mheight\u001b[0m\u001b[1;33m)\u001b[0m\u001b[1;33m,\u001b[0m \u001b[0mdpi\u001b[0m\u001b[1;33m)\u001b[0m\u001b[1;33m\u001b[0m\u001b[1;33m\u001b[0m\u001b[0m\n\u001b[0m\u001b[0;32m     94\u001b[0m         \u001b[0mself\u001b[0m\u001b[1;33m.\u001b[0m\u001b[0m_filter_renderers\u001b[0m \u001b[1;33m=\u001b[0m \u001b[1;33m[\u001b[0m\u001b[1;33m]\u001b[0m\u001b[1;33m\u001b[0m\u001b[1;33m\u001b[0m\u001b[0m\n\u001b[0;32m     95\u001b[0m \u001b[1;33m\u001b[0m\u001b[0m\n",
      "\u001b[1;31mValueError\u001b[0m: Image size of 242335x837 pixels is too large. It must be less than 2^16 in each direction."
     ]
    },
    {
     "data": {
      "text/plain": [
       "<Figure size 1600x1000 with 1 Axes>"
      ]
     },
     "metadata": {},
     "output_type": "display_data"
    }
   ],
   "source": [
    "fig=plt.figure(figsize=(16,10))\n",
    "dendrogram=sch.dendrogram(sch.linkage(wine_pca, method='average'))\n",
    "plt.title(dendrogram,size=15)"
   ]
  },
  {
   "cell_type": "code",
   "execution_count": 64,
   "id": "d2feea54",
   "metadata": {},
   "outputs": [],
   "source": [
    "hc3p = AgglomerativeClustering(n_clusters=5,affinity='euclidean',linkage='average')"
   ]
  },
  {
   "cell_type": "code",
   "execution_count": 65,
   "id": "746d5bc7",
   "metadata": {},
   "outputs": [],
   "source": [
    "y_hc3p=hc3p.fit_predict(wine_pca)\n",
    "cluster=pd.DataFrame(y_hc2p,columns=['cluster'])"
   ]
  },
  {
   "cell_type": "code",
   "execution_count": 66,
   "id": "93fe9908",
   "metadata": {},
   "outputs": [],
   "source": [
    "wine['cluster']=y_hc3p"
   ]
  },
  {
   "cell_type": "code",
   "execution_count": 67,
   "id": "b588f4b4",
   "metadata": {},
   "outputs": [
    {
     "data": {
      "text/html": [
       "<div>\n",
       "<style scoped>\n",
       "    .dataframe tbody tr th:only-of-type {\n",
       "        vertical-align: middle;\n",
       "    }\n",
       "\n",
       "    .dataframe tbody tr th {\n",
       "        vertical-align: top;\n",
       "    }\n",
       "\n",
       "    .dataframe thead tr th {\n",
       "        text-align: left;\n",
       "    }\n",
       "</style>\n",
       "<table border=\"1\" class=\"dataframe\">\n",
       "  <thead>\n",
       "    <tr>\n",
       "      <th></th>\n",
       "      <th>cluster</th>\n",
       "      <th>Type</th>\n",
       "      <th>Alcohol</th>\n",
       "      <th>Malic</th>\n",
       "      <th>Ash</th>\n",
       "      <th>Alcalinity</th>\n",
       "      <th>Magnesium</th>\n",
       "      <th>Phenols</th>\n",
       "      <th>Flavanoids</th>\n",
       "      <th>Nonflavanoids</th>\n",
       "      <th>Proanthocyanins</th>\n",
       "      <th>Color</th>\n",
       "      <th>Hue</th>\n",
       "      <th>Dilution</th>\n",
       "      <th>Proline</th>\n",
       "    </tr>\n",
       "    <tr>\n",
       "      <th></th>\n",
       "      <th></th>\n",
       "      <th>mean</th>\n",
       "      <th>mean</th>\n",
       "      <th>mean</th>\n",
       "      <th>mean</th>\n",
       "      <th>mean</th>\n",
       "      <th>mean</th>\n",
       "      <th>mean</th>\n",
       "      <th>mean</th>\n",
       "      <th>mean</th>\n",
       "      <th>mean</th>\n",
       "      <th>mean</th>\n",
       "      <th>mean</th>\n",
       "      <th>mean</th>\n",
       "      <th>mean</th>\n",
       "    </tr>\n",
       "  </thead>\n",
       "  <tbody>\n",
       "    <tr>\n",
       "      <th>0</th>\n",
       "      <td>0</td>\n",
       "      <td>2.000000</td>\n",
       "      <td>12.215833</td>\n",
       "      <td>1.971000</td>\n",
       "      <td>2.265167</td>\n",
       "      <td>20.498333</td>\n",
       "      <td>91.083333</td>\n",
       "      <td>2.247667</td>\n",
       "      <td>2.084500</td>\n",
       "      <td>0.361167</td>\n",
       "      <td>1.619833</td>\n",
       "      <td>2.943000</td>\n",
       "      <td>1.059100</td>\n",
       "      <td>2.831833</td>\n",
       "      <td>498.683333</td>\n",
       "    </tr>\n",
       "    <tr>\n",
       "      <th>1</th>\n",
       "      <td>1</td>\n",
       "      <td>1.065574</td>\n",
       "      <td>13.684754</td>\n",
       "      <td>1.945902</td>\n",
       "      <td>2.399836</td>\n",
       "      <td>16.800000</td>\n",
       "      <td>107.524590</td>\n",
       "      <td>2.809344</td>\n",
       "      <td>2.937213</td>\n",
       "      <td>0.283934</td>\n",
       "      <td>1.953115</td>\n",
       "      <td>5.449508</td>\n",
       "      <td>1.067377</td>\n",
       "      <td>3.137213</td>\n",
       "      <td>1101.131148</td>\n",
       "    </tr>\n",
       "    <tr>\n",
       "      <th>2</th>\n",
       "      <td>2</td>\n",
       "      <td>2.923077</td>\n",
       "      <td>13.138077</td>\n",
       "      <td>3.261731</td>\n",
       "      <td>2.416538</td>\n",
       "      <td>21.159615</td>\n",
       "      <td>98.884615</td>\n",
       "      <td>1.700192</td>\n",
       "      <td>0.828077</td>\n",
       "      <td>0.453846</td>\n",
       "      <td>1.131923</td>\n",
       "      <td>7.156538</td>\n",
       "      <td>0.698269</td>\n",
       "      <td>1.701154</td>\n",
       "      <td>621.576923</td>\n",
       "    </tr>\n",
       "    <tr>\n",
       "      <th>3</th>\n",
       "      <td>3</td>\n",
       "      <td>2.000000</td>\n",
       "      <td>12.370000</td>\n",
       "      <td>0.940000</td>\n",
       "      <td>1.360000</td>\n",
       "      <td>10.600000</td>\n",
       "      <td>88.000000</td>\n",
       "      <td>1.980000</td>\n",
       "      <td>0.570000</td>\n",
       "      <td>0.280000</td>\n",
       "      <td>0.420000</td>\n",
       "      <td>1.950000</td>\n",
       "      <td>1.050000</td>\n",
       "      <td>1.820000</td>\n",
       "      <td>520.000000</td>\n",
       "    </tr>\n",
       "    <tr>\n",
       "      <th>4</th>\n",
       "      <td>4</td>\n",
       "      <td>1.500000</td>\n",
       "      <td>12.710000</td>\n",
       "      <td>2.090000</td>\n",
       "      <td>2.980000</td>\n",
       "      <td>26.125000</td>\n",
       "      <td>125.000000</td>\n",
       "      <td>2.977500</td>\n",
       "      <td>3.335000</td>\n",
       "      <td>0.385000</td>\n",
       "      <td>1.892500</td>\n",
       "      <td>4.312500</td>\n",
       "      <td>1.102500</td>\n",
       "      <td>3.330000</td>\n",
       "      <td>753.750000</td>\n",
       "    </tr>\n",
       "  </tbody>\n",
       "</table>\n",
       "</div>"
      ],
      "text/plain": [
       "  cluster      Type    Alcohol     Malic       Ash Alcalinity   Magnesium  \\\n",
       "               mean       mean      mean      mean       mean        mean   \n",
       "0       0  2.000000  12.215833  1.971000  2.265167  20.498333   91.083333   \n",
       "1       1  1.065574  13.684754  1.945902  2.399836  16.800000  107.524590   \n",
       "2       2  2.923077  13.138077  3.261731  2.416538  21.159615   98.884615   \n",
       "3       3  2.000000  12.370000  0.940000  1.360000  10.600000   88.000000   \n",
       "4       4  1.500000  12.710000  2.090000  2.980000  26.125000  125.000000   \n",
       "\n",
       "    Phenols Flavanoids Nonflavanoids Proanthocyanins     Color       Hue  \\\n",
       "       mean       mean          mean            mean      mean      mean   \n",
       "0  2.247667   2.084500      0.361167        1.619833  2.943000  1.059100   \n",
       "1  2.809344   2.937213      0.283934        1.953115  5.449508  1.067377   \n",
       "2  1.700192   0.828077      0.453846        1.131923  7.156538  0.698269   \n",
       "3  1.980000   0.570000      0.280000        0.420000  1.950000  1.050000   \n",
       "4  2.977500   3.335000      0.385000        1.892500  4.312500  1.102500   \n",
       "\n",
       "   Dilution      Proline  \n",
       "       mean         mean  \n",
       "0  2.831833   498.683333  \n",
       "1  3.137213  1101.131148  \n",
       "2  1.701154   621.576923  \n",
       "3  1.820000   520.000000  \n",
       "4  3.330000   753.750000  "
      ]
     },
     "execution_count": 67,
     "metadata": {},
     "output_type": "execute_result"
    }
   ],
   "source": [
    "wine.groupby('cluster').agg(['mean']).reset_index()"
   ]
  },
  {
   "cell_type": "code",
   "execution_count": 68,
   "id": "99ec13be",
   "metadata": {},
   "outputs": [
    {
     "name": "stdout",
     "output_type": "stream",
     "text": [
      "cluster 0\n",
      "Total Members: 60\n",
      "\n",
      "cluster 1\n",
      "Total Members: 61\n",
      "\n",
      "cluster 2\n",
      "Total Members: 52\n",
      "\n",
      "cluster 3\n",
      "Total Members: 1\n",
      "\n",
      "cluster 4\n",
      "Total Members: 4\n",
      "\n"
     ]
    }
   ],
   "source": [
    "for i in range(5):\n",
    "    print(\"cluster\", i)\n",
    "   # print(\"The Members:\",(list(airlines[airlines['cluster'] == i]['ID#'].values)))\n",
    "    print(\"Total Members:\", len(list(wine[wine['cluster'] == i]['Type'].values)))\n",
    "    print()"
   ]
  },
  {
   "cell_type": "markdown",
   "id": "3ff35350",
   "metadata": {},
   "source": [
    "## Applying kmeans Clustering"
   ]
  },
  {
   "cell_type": "code",
   "execution_count": 69,
   "id": "2620084f",
   "metadata": {},
   "outputs": [
    {
     "name": "stderr",
     "output_type": "stream",
     "text": [
      "C:\\Users\\SP\\anaconda3\\lib\\site-packages\\sklearn\\cluster\\_kmeans.py:1036: UserWarning: KMeans is known to have a memory leak on Windows with MKL, when there are less chunks than available threads. You can avoid it by setting the environment variable OMP_NUM_THREADS=1.\n",
      "  warnings.warn(\n"
     ]
    },
    {
     "data": {
      "image/png": "[encoded data removed]",
      "text/plain": [
       "<Figure size 640x480 with 1 Axes>"
      ]
     },
     "metadata": {},
     "output_type": "display_data"
    }
   ],
   "source": [
    "from sklearn.cluster import KMeans\n",
    "wcss=[]\n",
    "for i in range(1,11):\n",
    "    kmeans=KMeans(n_clusters=i,random_state=0)\n",
    "    kmeans.fit(wine_pca)\n",
    "    wcss.append(kmeans.inertia_)\n",
    "    \n",
    "plt.plot(range(1,11),wcss)\n",
    "plt.title('elbow method')\n",
    "plt.xlabel('number of cluster')\n",
    "plt.ylabel('wcss')\n",
    "plt.show()"
   ]
  },
  {
   "cell_type": "code",
   "execution_count": 70,
   "id": "593f172a",
   "metadata": {},
   "outputs": [
    {
     "data": {
      "text/plain": [
       "KMeans(n_clusters=3, random_state=42)"
      ]
     },
     "execution_count": 70,
     "metadata": {},
     "output_type": "execute_result"
    }
   ],
   "source": [
    "from sklearn.cluster import KMeans\n",
    "clusters_new = KMeans(3, random_state=42)\n",
    "clusters_new.fit(wine_pca)"
   ]
  },
  {
   "cell_type": "code",
   "execution_count": 71,
   "id": "31679505",
   "metadata": {},
   "outputs": [],
   "source": [
    "KM_pca_label=clusters_new.labels_"
   ]
  },
  {
   "cell_type": "code",
   "execution_count": 72,
   "id": "57d7795e",
   "metadata": {},
   "outputs": [],
   "source": [
    "wine['cluster'] = clusters_new.labels_"
   ]
  },
  {
   "cell_type": "code",
   "execution_count": 73,
   "id": "94d7fd2c",
   "metadata": {},
   "outputs": [
    {
     "data": {
      "text/plain": [
       "array([[-2.72003575e+00, -1.12565126e+00, -2.39093241e-01],\n",
       "       [ 2.27619360e+00, -9.32054027e-01,  1.52803156e-03],\n",
       "       [-3.69566084e-02,  1.77223945e+00,  1.86138728e-01]])"
      ]
     },
     "execution_count": 73,
     "metadata": {},
     "output_type": "execute_result"
    }
   ],
   "source": [
    "clusters_new.cluster_centers_"
   ]
  },
  {
   "cell_type": "code",
   "execution_count": 74,
   "id": "1414f72c",
   "metadata": {},
   "outputs": [
    {
     "data": {
      "text/html": [
       "<div>\n",
       "<style scoped>\n",
       "    .dataframe tbody tr th:only-of-type {\n",
       "        vertical-align: middle;\n",
       "    }\n",
       "\n",
       "    .dataframe tbody tr th {\n",
       "        vertical-align: top;\n",
       "    }\n",
       "\n",
       "    .dataframe thead tr th {\n",
       "        text-align: left;\n",
       "    }\n",
       "</style>\n",
       "<table border=\"1\" class=\"dataframe\">\n",
       "  <thead>\n",
       "    <tr>\n",
       "      <th></th>\n",
       "      <th>cluster</th>\n",
       "      <th>Type</th>\n",
       "      <th>Alcohol</th>\n",
       "      <th>Malic</th>\n",
       "      <th>Ash</th>\n",
       "      <th>Alcalinity</th>\n",
       "      <th>Magnesium</th>\n",
       "      <th>Phenols</th>\n",
       "      <th>Flavanoids</th>\n",
       "      <th>Nonflavanoids</th>\n",
       "      <th>Proanthocyanins</th>\n",
       "      <th>Color</th>\n",
       "      <th>Hue</th>\n",
       "      <th>Dilution</th>\n",
       "      <th>Proline</th>\n",
       "    </tr>\n",
       "    <tr>\n",
       "      <th></th>\n",
       "      <th></th>\n",
       "      <th>mean</th>\n",
       "      <th>mean</th>\n",
       "      <th>mean</th>\n",
       "      <th>mean</th>\n",
       "      <th>mean</th>\n",
       "      <th>mean</th>\n",
       "      <th>mean</th>\n",
       "      <th>mean</th>\n",
       "      <th>mean</th>\n",
       "      <th>mean</th>\n",
       "      <th>mean</th>\n",
       "      <th>mean</th>\n",
       "      <th>mean</th>\n",
       "      <th>mean</th>\n",
       "    </tr>\n",
       "  </thead>\n",
       "  <tbody>\n",
       "    <tr>\n",
       "      <th>0</th>\n",
       "      <td>0</td>\n",
       "      <td>2.941176</td>\n",
       "      <td>13.134118</td>\n",
       "      <td>3.307255</td>\n",
       "      <td>2.417647</td>\n",
       "      <td>21.241176</td>\n",
       "      <td>98.666667</td>\n",
       "      <td>1.683922</td>\n",
       "      <td>0.818824</td>\n",
       "      <td>0.451961</td>\n",
       "      <td>1.145882</td>\n",
       "      <td>7.234706</td>\n",
       "      <td>0.691961</td>\n",
       "      <td>1.696667</td>\n",
       "      <td>619.058824</td>\n",
       "    </tr>\n",
       "    <tr>\n",
       "      <th>1</th>\n",
       "      <td>1</td>\n",
       "      <td>1.048387</td>\n",
       "      <td>13.676774</td>\n",
       "      <td>1.997903</td>\n",
       "      <td>2.466290</td>\n",
       "      <td>17.462903</td>\n",
       "      <td>107.967742</td>\n",
       "      <td>2.847581</td>\n",
       "      <td>3.003226</td>\n",
       "      <td>0.292097</td>\n",
       "      <td>1.922097</td>\n",
       "      <td>5.453548</td>\n",
       "      <td>1.065484</td>\n",
       "      <td>3.163387</td>\n",
       "      <td>1100.225806</td>\n",
       "    </tr>\n",
       "    <tr>\n",
       "      <th>2</th>\n",
       "      <td>2</td>\n",
       "      <td>2.000000</td>\n",
       "      <td>12.250923</td>\n",
       "      <td>1.897385</td>\n",
       "      <td>2.231231</td>\n",
       "      <td>20.063077</td>\n",
       "      <td>92.738462</td>\n",
       "      <td>2.247692</td>\n",
       "      <td>2.050000</td>\n",
       "      <td>0.357692</td>\n",
       "      <td>1.624154</td>\n",
       "      <td>2.973077</td>\n",
       "      <td>1.062708</td>\n",
       "      <td>2.803385</td>\n",
       "      <td>510.169231</td>\n",
       "    </tr>\n",
       "  </tbody>\n",
       "</table>\n",
       "</div>"
      ],
      "text/plain": [
       "  cluster      Type    Alcohol     Malic       Ash Alcalinity   Magnesium  \\\n",
       "               mean       mean      mean      mean       mean        mean   \n",
       "0       0  2.941176  13.134118  3.307255  2.417647  21.241176   98.666667   \n",
       "1       1  1.048387  13.676774  1.997903  2.466290  17.462903  107.967742   \n",
       "2       2  2.000000  12.250923  1.897385  2.231231  20.063077   92.738462   \n",
       "\n",
       "    Phenols Flavanoids Nonflavanoids Proanthocyanins     Color       Hue  \\\n",
       "       mean       mean          mean            mean      mean      mean   \n",
       "0  1.683922   0.818824      0.451961        1.145882  7.234706  0.691961   \n",
       "1  2.847581   3.003226      0.292097        1.922097  5.453548  1.065484   \n",
       "2  2.247692   2.050000      0.357692        1.624154  2.973077  1.062708   \n",
       "\n",
       "   Dilution      Proline  \n",
       "       mean         mean  \n",
       "0  1.696667   619.058824  \n",
       "1  3.163387  1100.225806  \n",
       "2  2.803385   510.169231  "
      ]
     },
     "execution_count": 74,
     "metadata": {},
     "output_type": "execute_result"
    }
   ],
   "source": [
    "wine.groupby('cluster').agg(['mean']).reset_index()"
   ]
  },
  {
   "cell_type": "code",
   "execution_count": 75,
   "id": "80ed8318",
   "metadata": {},
   "outputs": [
    {
     "name": "stdout",
     "output_type": "stream",
     "text": [
      "cluster 0\n",
      "Total Members: 51\n",
      "\n",
      "cluster 1\n",
      "Total Members: 62\n",
      "\n",
      "cluster 2\n",
      "Total Members: 65\n",
      "\n"
     ]
    }
   ],
   "source": [
    "for i in range(3):\n",
    "    print(\"cluster\", i)\n",
    "   # print(\"The Members:\",(list(airlines[airlines['cluster'] == i]['ID#'].values)))\n",
    "    print(\"Total Members:\", len(list(wine[wine['cluster'] == i]['Type'].values)))\n",
    "    print()"
   ]
  },
  {
   "cell_type": "code",
   "execution_count": 76,
   "id": "bed86bc8",
   "metadata": {},
   "outputs": [],
   "source": [
    "from sklearn import metrics"
   ]
  },
  {
   "cell_type": "code",
   "execution_count": 77,
   "id": "a0b53bba",
   "metadata": {},
   "outputs": [
    {
     "data": {
      "text/plain": [
       "0.44594921980629704"
      ]
     },
     "execution_count": 77,
     "metadata": {},
     "output_type": "execute_result"
    }
   ],
   "source": [
    "SH_ward_PCA=metrics.silhouette_score(wine_pca,y_hc1p)\n",
    "SH_ward_PCA"
   ]
  },
  {
   "cell_type": "code",
   "execution_count": 78,
   "id": "27b83512",
   "metadata": {},
   "outputs": [
    {
     "data": {
      "text/plain": [
       "0.35584479879635356"
      ]
     },
     "execution_count": 78,
     "metadata": {},
     "output_type": "execute_result"
    }
   ],
   "source": [
    "SH_complete_PCA=metrics.silhouette_score(wine_pca,y_hc2p)\n",
    "SH_complete_PCA"
   ]
  },
  {
   "cell_type": "code",
   "execution_count": 79,
   "id": "b1e5b4fe",
   "metadata": {},
   "outputs": [
    {
     "data": {
      "text/plain": [
       "0.44654492780235827"
      ]
     },
     "execution_count": 79,
     "metadata": {},
     "output_type": "execute_result"
    }
   ],
   "source": [
    "SH_average_PCA=metrics.silhouette_score(wine_pca,y_hc3p)\n",
    "SH_average_PCA"
   ]
  },
  {
   "cell_type": "code",
   "execution_count": 80,
   "id": "c6004053",
   "metadata": {},
   "outputs": [
    {
     "data": {
      "text/plain": [
       "0.4537999848257617"
      ]
     },
     "execution_count": 80,
     "metadata": {},
     "output_type": "execute_result"
    }
   ],
   "source": [
    "SH_kmeans_PCA=metrics.silhouette_score(wine_pca,KM_pca_label)\n",
    "SH_kmeans_PCA"
   ]
  },
  {
   "cell_type": "code",
   "execution_count": 81,
   "id": "aba9f7ec",
   "metadata": {},
   "outputs": [
    {
     "data": {
      "text/plain": [
       "(0.22945756295901437,\n",
       " 0.2774439826952265,\n",
       " 0.18836501623937577,\n",
       " 0.2848589191898987)"
      ]
     },
     "execution_count": 81,
     "metadata": {},
     "output_type": "execute_result"
    }
   ],
   "source": [
    "SH_average,SH_ward,SH_complete,SH_kmeans"
   ]
  },
  {
   "cell_type": "code",
   "execution_count": 82,
   "id": "909fe30c",
   "metadata": {},
   "outputs": [
    {
     "data": {
      "text/plain": [
       "(0.44594921980629704,\n",
       " 0.44654492780235827,\n",
       " 0.35584479879635356,\n",
       " 0.4537999848257617)"
      ]
     },
     "execution_count": 82,
     "metadata": {},
     "output_type": "execute_result"
    }
   ],
   "source": [
    "SH_ward_PCA,SH_average_PCA,SH_complete_PCA,SH_kmeans_PCA"
   ]
  },
  {
   "cell_type": "code",
   "execution_count": null,
   "id": "ad7729cf",
   "metadata": {},
   "outputs": [],
   "source": []
  },
  {
   "cell_type": "code",
   "execution_count": null,
   "id": "3f613be4",
   "metadata": {},
   "outputs": [],
   "source": []
  }
 ],
 "metadata": {
  "kernelspec": {
   "display_name": "Python 3 (ipykernel)",
   "language": "python",
   "name": "python3"
  },
  "language_info": {
   "codemirror_mode": {
    "name": "ipython",
    "version": 3
   },
   "file_extension": ".py",
   "mimetype": "text/x-python",
   "name": "python",
   "nbconvert_exporter": "python",
   "pygments_lexer": "ipython3",
   "version": "3.9.13"
  }
 },
 "nbformat": 4,
 "nbformat_minor": 5
}
